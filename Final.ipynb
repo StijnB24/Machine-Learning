{
 "cells": [
  {
   "cell_type": "markdown",
   "id": "6a7b5306",
   "metadata": {
    "cellIdentifier": "lwdv177dhd94kjdof4jew8",
    "nbgrader": {
     "grade": false,
     "grade_id": "cell-edb192a51f1f59eb",
     "locked": true,
     "schema_version": 3,
     "solution": false,
     "task": false
    },
    "papermill": {
     "duration": 0.006226,
     "end_time": "2025-10-29T01:31:51.592666",
     "exception": false,
     "start_time": "2025-10-29T01:31:51.586440",
     "status": "completed"
    },
    "tags": []
   },
   "source": [
    "# [](http://)TI3145TU Final Assignment \n",
    "## Health Insurance "
   ]
  },
  {
   "cell_type": "markdown",
   "id": "0f77d5fc",
   "metadata": {
    "cellIdentifier": "xfw5ms6qx7c98rept16dri",
    "nbgrader": {
     "grade": false,
     "grade_id": "cell-b4b9196b1578a999",
     "locked": true,
     "schema_version": 3,
     "solution": false,
     "task": false
    },
    "papermill": {
     "duration": 0.004843,
     "end_time": "2025-10-29T01:31:51.602822",
     "exception": false,
     "start_time": "2025-10-29T01:31:51.597979",
     "status": "completed"
    },
    "tags": []
   },
   "source": [
    "We hope you enjoy this assignment, good luck!\n",
    "\n",
    "Student names: XXX\n",
    "\n",
    "Student numbers: XXX"
   ]
  },
  {
   "cell_type": "markdown",
   "id": "cdd74046",
   "metadata": {
    "papermill": {
     "duration": 0.004743,
     "end_time": "2025-10-29T01:31:51.612589",
     "exception": false,
     "start_time": "2025-10-29T01:31:51.607846",
     "status": "completed"
    },
    "tags": []
   },
   "source": [
    "## Part A - Data Exploration and Preprocessing"
   ]
  },
  {
   "cell_type": "markdown",
   "id": "5ef76cc2",
   "metadata": {
    "cellIdentifier": "4ynzvgl75mclz9celnpmxq",
    "nbgrader": {
     "grade": false,
     "grade_id": "cell-1b099224fae6a999",
     "locked": true,
     "schema_version": 3,
     "solution": false,
     "task": false
    },
    "papermill": {
     "duration": 0.004759,
     "end_time": "2025-10-29T01:31:51.622253",
     "exception": false,
     "start_time": "2025-10-29T01:31:51.617494",
     "status": "completed"
    },
    "tags": []
   },
   "source": [
    "### Imports"
   ]
  },
  {
   "cell_type": "code",
   "execution_count": 1,
   "id": "716cd495",
   "metadata": {
    "cellIdentifier": "npwy0dl4jxo674ysbeeg3w",
    "execution": {
     "iopub.execute_input": "2025-10-29T01:31:51.633876Z",
     "iopub.status.busy": "2025-10-29T01:31:51.633139Z",
     "iopub.status.idle": "2025-10-29T01:31:54.974681Z",
     "shell.execute_reply": "2025-10-29T01:31:54.973940Z"
    },
    "papermill": {
     "duration": 3.349067,
     "end_time": "2025-10-29T01:31:54.976193",
     "exception": false,
     "start_time": "2025-10-29T01:31:51.627126",
     "status": "completed"
    },
    "tags": []
   },
   "outputs": [],
   "source": [
    "import pandas as pd\n",
    "import numpy as np\n",
    "import matplotlib.pyplot as plt\n",
    "\n",
    "from sklearn.preprocessing import StandardScaler, OneHotEncoder, MinMaxScaler, PolynomialFeatures\n",
    "from sklearn.impute import SimpleImputer\n",
    "from sklearn.compose import ColumnTransformer\n",
    "from sklearn.pipeline import Pipeline\n",
    "from sklearn.neighbors import KNeighborsRegressor\n",
    "from sklearn.linear_model import SGDRegressor\n",
    "from sklearn.ensemble import RandomForestRegressor\n",
    "from sklearn.tree import DecisionTreeRegressor\n",
    "from sklearn.metrics import mean_absolute_error, make_scorer\n",
    "from sklearn.model_selection import cross_val_score, GridSearchCV, train_test_split\n",
    "from sklearn.base import clone"
   ]
  },
  {
   "cell_type": "markdown",
   "id": "6437ccdb",
   "metadata": {
    "cellIdentifier": "exxkp4rkf215c9ouoymvv",
    "nbgrader": {
     "grade": false,
     "grade_id": "cell-27453141f8aa1fdd",
     "locked": true,
     "schema_version": 3,
     "solution": false,
     "task": false
    },
    "papermill": {
     "duration": 0.004898,
     "end_time": "2025-10-29T01:31:54.986667",
     "exception": false,
     "start_time": "2025-10-29T01:31:54.981769",
     "status": "completed"
    },
    "tags": []
   },
   "source": [
    "### Load data"
   ]
  },
  {
   "cell_type": "code",
   "execution_count": 2,
   "id": "627704a5",
   "metadata": {
    "cellIdentifier": "2ct6gjkr185f67ahmkzndo",
    "execution": {
     "iopub.execute_input": "2025-10-29T01:31:54.999006Z",
     "iopub.status.busy": "2025-10-29T01:31:54.997987Z",
     "iopub.status.idle": "2025-10-29T01:31:55.052951Z",
     "shell.execute_reply": "2025-10-29T01:31:55.051896Z"
    },
    "papermill": {
     "duration": 0.062391,
     "end_time": "2025-10-29T01:31:55.054403",
     "exception": false,
     "start_time": "2025-10-29T01:31:54.992012",
     "status": "completed"
    },
    "tags": []
   },
   "outputs": [
    {
     "name": "stdout",
     "output_type": "stream",
     "text": [
      "   whrswk  hhi  whi hhi2   education   race hispanic  experience  kidslt6  \\\n",
      "0    40.0   no  yes  yes  13-15years  white       no        17.0      0.0   \n",
      "1    40.0   no  yes  yes  13-15years  white       no         4.0      1.0   \n",
      "2     0.0  yes   no  yes     16years  white       no        21.0      0.0   \n",
      "3    40.0   no   no  yes  13-15years  white       no        22.0      NaN   \n",
      "4    35.0   no  yes   no     12years  white       no        15.0      0.0   \n",
      "\n",
      "   kids618   husby        region  \n",
      "0      1.0  22.000         south  \n",
      "1      0.0  15.000         south  \n",
      "2      1.0  99.999         other  \n",
      "3      NaN  60.000  northcentral  \n",
      "4      2.0   0.000         south  \n"
     ]
    },
    {
     "name": "stderr",
     "output_type": "stream",
     "text": [
      "/usr/local/lib/python3.11/dist-packages/pandas/io/formats/format.py:1458: RuntimeWarning: invalid value encountered in greater\n",
      "  has_large_values = (abs_vals > 1e6).any()\n",
      "/usr/local/lib/python3.11/dist-packages/pandas/io/formats/format.py:1459: RuntimeWarning: invalid value encountered in less\n",
      "  has_small_values = ((abs_vals < 10 ** (-self.digits)) & (abs_vals > 0)).any()\n",
      "/usr/local/lib/python3.11/dist-packages/pandas/io/formats/format.py:1459: RuntimeWarning: invalid value encountered in greater\n",
      "  has_small_values = ((abs_vals < 10 ** (-self.digits)) & (abs_vals > 0)).any()\n"
     ]
    }
   ],
   "source": [
    "# These are your training samples along with their labels\n",
    "data = pd.read_csv('/kaggle/input/health-insurance/health_insurance_train.csv')\n",
    "\n",
    "X = data.drop('whrswk', axis=1)\n",
    "y = data['whrswk']\n",
    "\n",
    "print(data.head())\n",
    "# You need to extract the features and the regression target. The regression target is 'whrswk'. "
   ]
  },
  {
   "cell_type": "code",
   "execution_count": 3,
   "id": "bc9bafca",
   "metadata": {
    "execution": {
     "iopub.execute_input": "2025-10-29T01:31:55.066852Z",
     "iopub.status.busy": "2025-10-29T01:31:55.065865Z",
     "iopub.status.idle": "2025-10-29T01:31:55.076667Z",
     "shell.execute_reply": "2025-10-29T01:31:55.075578Z"
    },
    "papermill": {
     "duration": 0.018264,
     "end_time": "2025-10-29T01:31:55.078164",
     "exception": false,
     "start_time": "2025-10-29T01:31:55.059900",
     "status": "completed"
    },
    "tags": []
   },
   "outputs": [
    {
     "name": "stdout",
     "output_type": "stream",
     "text": [
      "   whrswk  hhi  whi hhi2   education   race hispanic  experience  kidslt6  \\\n",
      "0    40.0   no  yes  yes  13-15years  white       no        17.0      0.0   \n",
      "1    40.0   no  yes  yes  13-15years  white       no         4.0      1.0   \n",
      "2     0.0  yes   no  yes     16years  white       no        21.0      0.0   \n",
      "3    40.0   no   no  yes  13-15years  white       no        22.0      NaN   \n",
      "4    35.0   no  yes   no     12years  white       no        15.0      0.0   \n",
      "5    20.0   no   no   no   9-11years  white       no        25.5      0.0   \n",
      "6     0.0  yes   no  yes  13-15years  white       no        45.0      0.0   \n",
      "7    40.0  yes  yes  yes  13-15years  black       no        23.0      0.0   \n",
      "8     5.0  yes   no  yes  13-15years    NaN       no        20.0      1.0   \n",
      "9    40.0   no  yes  yes     12years  white       no         9.0      1.0   \n",
      "\n",
      "   kids618   husby        region  \n",
      "0      1.0  22.000         south  \n",
      "1      0.0  15.000         south  \n",
      "2      1.0  99.999         other  \n",
      "3      NaN  60.000  northcentral  \n",
      "4      2.0   0.000         south  \n",
      "5      0.0   0.000         other  \n",
      "6      0.0  69.000         south  \n",
      "7      1.0  29.432         other  \n",
      "8      1.0  53.000         south  \n",
      "9      1.0  18.000          west  \n"
     ]
    },
    {
     "name": "stderr",
     "output_type": "stream",
     "text": [
      "/usr/local/lib/python3.11/dist-packages/pandas/io/formats/format.py:1458: RuntimeWarning: invalid value encountered in greater\n",
      "  has_large_values = (abs_vals > 1e6).any()\n",
      "/usr/local/lib/python3.11/dist-packages/pandas/io/formats/format.py:1459: RuntimeWarning: invalid value encountered in less\n",
      "  has_small_values = ((abs_vals < 10 ** (-self.digits)) & (abs_vals > 0)).any()\n",
      "/usr/local/lib/python3.11/dist-packages/pandas/io/formats/format.py:1459: RuntimeWarning: invalid value encountered in greater\n",
      "  has_small_values = ((abs_vals < 10 ** (-self.digits)) & (abs_vals > 0)).any()\n"
     ]
    }
   ],
   "source": [
    "pd.set_option('display.max_rows', 200)\n",
    "print(data.head(10))"
   ]
  },
  {
   "cell_type": "markdown",
   "id": "bd016b2c",
   "metadata": {
    "papermill": {
     "duration": 0.00515,
     "end_time": "2025-10-29T01:31:55.088904",
     "exception": false,
     "start_time": "2025-10-29T01:31:55.083754",
     "status": "completed"
    },
    "tags": []
   },
   "source": [
    "#### Kijken voor afwijkende data"
   ]
  },
  {
   "cell_type": "code",
   "execution_count": 4,
   "id": "0c10bea2",
   "metadata": {
    "execution": {
     "iopub.execute_input": "2025-10-29T01:31:55.100384Z",
     "iopub.status.busy": "2025-10-29T01:31:55.100067Z",
     "iopub.status.idle": "2025-10-29T01:31:55.119509Z",
     "shell.execute_reply": "2025-10-29T01:31:55.118573Z"
    },
    "papermill": {
     "duration": 0.026635,
     "end_time": "2025-10-29T01:31:55.120708",
     "exception": false,
     "start_time": "2025-10-29T01:31:55.094073",
     "status": "completed"
    },
    "tags": []
   },
   "outputs": [
    {
     "name": "stdout",
     "output_type": "stream",
     "text": [
      "whrswk: 1477 zeroes, 0 NaN's, 0 other\n",
      "hhi: 0 zeroes, 0 NaN's, 0 other\n",
      "whi: 0 zeroes, 0 NaN's, 0 other\n",
      "hhi2: 0 zeroes, 0 NaN's, 0 other\n",
      "education: 0 zeroes, 0 NaN's, 0 other\n",
      "race: 0 zeroes, 500 NaN's, 37 other\n",
      "hispanic: 0 zeroes, 0 NaN's, 0 other\n",
      "experience: 6 zeroes, 0 NaN's, 0 other\n",
      "kidslt6: 3379 zeroes, 500 NaN's, 0 other\n",
      "kids618: 2641 zeroes, 500 NaN's, 0 other\n",
      "husby: 950 zeroes, 0 NaN's, 0 other\n",
      "region: 0 zeroes, 0 NaN's, 1179 other\n"
     ]
    }
   ],
   "source": [
    "cols = ['whrswk', 'hhi', 'whi', 'hhi2', 'education', 'race','hispanic',\n",
    "        'experience', 'kidslt6', 'kids618', 'husby', 'region']\n",
    "\n",
    "for col in cols:\n",
    "    zeros = (data[col] == 0).sum()\n",
    "    others = (data[col] == 'other').sum()\n",
    "    nans = data[col].isna().sum()\n",
    "    print(f\"{col}: {zeros} zeroes, {nans} NaN's, {others} other\")"
   ]
  },
  {
   "cell_type": "markdown",
   "id": "6dc59f79",
   "metadata": {
    "papermill": {
     "duration": 0.005183,
     "end_time": "2025-10-29T01:31:55.131401",
     "exception": false,
     "start_time": "2025-10-29T01:31:55.126218",
     "status": "completed"
    },
    "tags": []
   },
   "source": [
    "### Pipeline 1"
   ]
  },
  {
   "cell_type": "code",
   "execution_count": 5,
   "id": "ae2e8aa5",
   "metadata": {
    "execution": {
     "iopub.execute_input": "2025-10-29T01:31:55.143650Z",
     "iopub.status.busy": "2025-10-29T01:31:55.143363Z",
     "iopub.status.idle": "2025-10-29T01:31:55.148853Z",
     "shell.execute_reply": "2025-10-29T01:31:55.148143Z"
    },
    "papermill": {
     "duration": 0.013487,
     "end_time": "2025-10-29T01:31:55.150047",
     "exception": false,
     "start_time": "2025-10-29T01:31:55.136560",
     "status": "completed"
    },
    "tags": []
   },
   "outputs": [],
   "source": [
    "Num = ['experience', 'kidslt6', 'kids618', 'husby']\n",
    "Bin_cat = ['hhi', 'whi', 'hhi2', 'hispanic']\n",
    "Multi_cat = ['race', 'region', 'education']\n",
    "\n",
    "\n",
    "num_pipe = Pipeline(steps=[\n",
    "    ('imputer', SimpleImputer(strategy = 'median')),\n",
    "    ('scaler', StandardScaler())\n",
    "])\n",
    "\n",
    "cat_pipe = Pipeline(steps=[\n",
    "    ('imputer', SimpleImputer(strategy = 'most_frequent')),\n",
    "    ('onehot', OneHotEncoder(handle_unknown = 'ignore', sparse_output = False)),\n",
    "    ('scaler', StandardScaler())\n",
    "])\n",
    "\n",
    "prep_1 = ColumnTransformer(\n",
    "    transformers=[\n",
    "        ('num_scaled', num_pipe, Num),\n",
    "        ('bin_cat_ohe', cat_pipe, Bin_cat), \n",
    "        ('multi_cat_ohe', cat_pipe, Multi_cat) \n",
    "    ],\n",
    "    remainder = 'drop'\n",
    ")"
   ]
  },
  {
   "cell_type": "code",
   "execution_count": 6,
   "id": "40ce086b",
   "metadata": {
    "_kg_hide-input": false,
    "_kg_hide-output": false,
    "execution": {
     "iopub.execute_input": "2025-10-29T01:31:55.161710Z",
     "iopub.status.busy": "2025-10-29T01:31:55.161446Z",
     "iopub.status.idle": "2025-10-29T01:31:55.214457Z",
     "shell.execute_reply": "2025-10-29T01:31:55.213691Z"
    },
    "papermill": {
     "duration": 0.060722,
     "end_time": "2025-10-29T01:31:55.215991",
     "exception": false,
     "start_time": "2025-10-29T01:31:55.155269",
     "status": "completed"
    },
    "tags": []
   },
   "outputs": [
    {
     "name": "stdout",
     "output_type": "stream",
     "text": [
      "1. Initieel aantal rijen en kolommen (X): (5000, 11)\n",
      "   Aantal rijen en kolommen na P1:        (5000, 25)\n",
      "\n",
      "2. Totaal aantal features na P1: 25\n",
      "   Alle feature namen:\n",
      "['num_scaled__experience' 'num_scaled__kidslt6' 'num_scaled__kids618'\n",
      " 'num_scaled__husby' 'bin_cat_ohe__hhi_no' 'bin_cat_ohe__hhi_yes'\n",
      " 'bin_cat_ohe__whi_no' 'bin_cat_ohe__whi_yes' 'bin_cat_ohe__hhi2_no'\n",
      " 'bin_cat_ohe__hhi2_yes' 'bin_cat_ohe__hispanic_no'\n",
      " 'bin_cat_ohe__hispanic_yes' 'multi_cat_ohe__race_black'\n",
      " 'multi_cat_ohe__race_other' 'multi_cat_ohe__race_white'\n",
      " 'multi_cat_ohe__region_northcentral' 'multi_cat_ohe__region_other'\n",
      " 'multi_cat_ohe__region_south' 'multi_cat_ohe__region_west'\n",
      " 'multi_cat_ohe__education_12years' 'multi_cat_ohe__education_13-15years'\n",
      " 'multi_cat_ohe__education_16years' 'multi_cat_ohe__education_9-11years'\n",
      " 'multi_cat_ohe__education_<9years' 'multi_cat_ohe__education_>16years']\n"
     ]
    }
   ],
   "source": [
    "X_transformed = prep_1.fit_transform(X)\n",
    "\n",
    "print(f\"1. Initieel aantal rijen en kolommen (X): {X.shape}\")\n",
    "print(f\"   Aantal rijen en kolommen na P1:        {X_transformed.shape}\")\n",
    "\n",
    "# .get_feature_names_out() om de getransformeerde kolomnamen te zien\n",
    "try:\n",
    "    feature_names = prep_1.get_feature_names_out()\n",
    "    print(f\"\\n2. Totaal aantal features na P1: {len(feature_names)}\")\n",
    "    print(\"   Alle feature namen:\")\n",
    "    print(feature_names)\n",
    "except Exception as e:\n",
    "    print(f\"\\nKon featurenamen niet ophalen: {e}\")\n",
    "\n",
    "X_transformed_df = pd.DataFrame(X_transformed, columns=feature_names)\n",
    "#print(\"\\n3. Eerste 5 rijen van de getransformeerde data (Controle Scaling/OHE):\")\n",
    "#print(X_transformed_df.head())"
   ]
  },
  {
   "cell_type": "markdown",
   "id": "abea9cf8",
   "metadata": {
    "papermill": {
     "duration": 0.005179,
     "end_time": "2025-10-29T01:31:55.226857",
     "exception": false,
     "start_time": "2025-10-29T01:31:55.221678",
     "status": "completed"
    },
    "tags": []
   },
   "source": [
    "### Pipeline 2"
   ]
  },
  {
   "cell_type": "code",
   "execution_count": 7,
   "id": "b533631c",
   "metadata": {
    "execution": {
     "iopub.execute_input": "2025-10-29T01:31:55.238941Z",
     "iopub.status.busy": "2025-10-29T01:31:55.238333Z",
     "iopub.status.idle": "2025-10-29T01:31:55.247937Z",
     "shell.execute_reply": "2025-10-29T01:31:55.247036Z"
    },
    "papermill": {
     "duration": 0.017052,
     "end_time": "2025-10-29T01:31:55.249168",
     "exception": false,
     "start_time": "2025-10-29T01:31:55.232116",
     "status": "completed"
    },
    "tags": []
   },
   "outputs": [],
   "source": [
    "def feature_engineer_p2(X_df):\n",
    "    X_f = X_df.copy()\n",
    "    \n",
    "    # Jongere kinderen hebben meer aandacht nodig dan oudere kinderen \n",
    "    X_f['child_burden'] = 2 * X_f['kidslt6'] + X_f['kids618']\n",
    "    \n",
    "    # Kwadratische Term voor Husby om non-lineariteit vast te leggen\n",
    "    X_f['husby_sq'] = X_f['husby'] ** 2\n",
    "    \n",
    "    # Man en vrouw hebben beide verzekering door werk vrouw, indicatie vam goede baan vrouw\n",
    "    X_f['dual_job_insurance'] = ((X_f['whi'] == 'yes') & (X_f['hhi2'] == 'yes')).astype(int)\n",
    "    \n",
    "    return X_f\n",
    "\n",
    "X_f = feature_engineer_p2(X)"
   ]
  },
  {
   "cell_type": "code",
   "execution_count": 8,
   "id": "d34ccd23",
   "metadata": {
    "execution": {
     "iopub.execute_input": "2025-10-29T01:31:55.260982Z",
     "iopub.status.busy": "2025-10-29T01:31:55.260305Z",
     "iopub.status.idle": "2025-10-29T01:31:55.267163Z",
     "shell.execute_reply": "2025-10-29T01:31:55.266333Z"
    },
    "papermill": {
     "duration": 0.014478,
     "end_time": "2025-10-29T01:31:55.268734",
     "exception": false,
     "start_time": "2025-10-29T01:31:55.254256",
     "status": "completed"
    },
    "tags": []
   },
   "outputs": [],
   "source": [
    "# Werkervaring vrouw correlatie met inkomen van man\n",
    "FE_targets = ['husby', 'experience'] \n",
    "\n",
    "# Dit zijn de NIEUWE, numerieke features die geschaald moeten worden\n",
    "# kidslt6/kids618 en whi/hhi2 vallen af omdat ze nu in resp child_burden en dual_job_insurance zitten\n",
    "Num_f = ['husby_sq', 'child_burden', 'dual_job_insurance']\n",
    "\n",
    "\n",
    "num_pipe2 = Pipeline(steps=[\n",
    "    ('imputer', SimpleImputer(strategy = 'median'))\n",
    "])\n",
    "\n",
    "cat_pipe2 = Pipeline(steps=[\n",
    "    ('imputer', SimpleImputer(strategy = 'most_frequent')),\n",
    "    ('onehot', OneHotEncoder(drop = 'first', handle_unknown = 'ignore', sparse_output = False))\n",
    "])\n",
    "\n",
    "\n",
    "# Polynomial Feature Extraction (alleen interacties)\n",
    "pfe_pipe = Pipeline(steps=[\n",
    "    ('imputer', SimpleImputer(strategy = 'median')),\n",
    "    ('poly', PolynomialFeatures(degree = 2, interaction_only = True, include_bias = False)),\n",
    "    ('scaler', StandardScaler())\n",
    "])\n",
    "\n",
    "# Pipeline voor Numeriek Passthrough (voor de rest van de numerieke features)\n",
    "num_pipe_passthrough = Pipeline(steps=[\n",
    "    ('imputer', SimpleImputer(strategy = 'median')),\n",
    "    ('scaler', StandardScaler())\n",
    "])\n",
    "\n",
    "prep_2 = ColumnTransformer(\n",
    "    transformers=[\n",
    "        # PFE op de kritische features (husby, experience)\n",
    "        ('pfe_feats', pfe_pipe, FE_targets),\n",
    "        \n",
    "        # Numeriek Passthrough op de nieuwe FE features\n",
    "        ('num_pass', num_pipe_passthrough, Num_f), \n",
    "        \n",
    "        ('bin_cat_ohe', cat_pipe2, Bin_cat),\n",
    "        ('multi_cat_ohe', cat_pipe2, Multi_cat)\n",
    "    ],\n",
    "    remainder = 'drop'\n",
    ")"
   ]
  },
  {
   "cell_type": "markdown",
   "id": "be7da8cd",
   "metadata": {
    "papermill": {
     "duration": 0.00564,
     "end_time": "2025-10-29T01:31:55.280628",
     "exception": false,
     "start_time": "2025-10-29T01:31:55.274988",
     "status": "completed"
    },
    "tags": []
   },
   "source": [
    "## Part B - Regression with Default Hyperparameters"
   ]
  },
  {
   "cell_type": "markdown",
   "id": "00e550d4",
   "metadata": {
    "papermill": {
     "duration": 0.005619,
     "end_time": "2025-10-29T01:31:55.292438",
     "exception": false,
     "start_time": "2025-10-29T01:31:55.286819",
     "status": "completed"
    },
    "tags": []
   },
   "source": [
    "### Define models"
   ]
  },
  {
   "cell_type": "code",
   "execution_count": 9,
   "id": "be202098",
   "metadata": {
    "execution": {
     "iopub.execute_input": "2025-10-29T01:31:55.305471Z",
     "iopub.status.busy": "2025-10-29T01:31:55.304969Z",
     "iopub.status.idle": "2025-10-29T01:31:55.312250Z",
     "shell.execute_reply": "2025-10-29T01:31:55.311351Z"
    },
    "papermill": {
     "duration": 0.01545,
     "end_time": "2025-10-29T01:31:55.313574",
     "exception": false,
     "start_time": "2025-10-29T01:31:55.298124",
     "status": "completed"
    },
    "tags": []
   },
   "outputs": [],
   "source": [
    "models_p1 = {\n",
    "    'KNN Regression': Pipeline(steps=[\n",
    "        ('preprocessor', prep_1), \n",
    "        ('regressor', KNeighborsRegressor(n_neighbors = 5))\n",
    "    ]),\n",
    "    'SGD Linear Regression': Pipeline(steps=[\n",
    "        ('preprocessor', prep_1), \n",
    "        ('regressor', SGDRegressor(random_state = 42))\n",
    "    ]),   \n",
    "    'Random Forest': Pipeline(steps=[\n",
    "        ('preprocessor', prep_1), \n",
    "        ('regressor', RandomForestRegressor(n_estimators = 100, random_state = 42, n_jobs = -1)) # n_jobs=-1 voor snellere training\n",
    "    ]),    \n",
    "    'Regression Tree': Pipeline(steps=[\n",
    "        ('preprocessor', prep_1), \n",
    "        ('regressor', DecisionTreeRegressor(random_state = 42))\n",
    "    ])\n",
    "}\n",
    "\n",
    "\n",
    "models_p2 = {\n",
    "    'KNN Regression (P2)': Pipeline(steps=[\n",
    "        ('preprocessor', prep_2), \n",
    "        ('regressor', KNeighborsRegressor(n_neighbors = 5))\n",
    "    ]),\n",
    "    'SGD Linear Regression (P2)': Pipeline(steps=[\n",
    "        ('preprocessor', prep_2), \n",
    "        ('regressor', SGDRegressor(random_state = 42))\n",
    "    ]),\n",
    "    'Random Forest (P2)': Pipeline(steps=[\n",
    "        ('preprocessor', prep_2), \n",
    "        ('regressor', RandomForestRegressor(n_estimators = 100, random_state = 42, n_jobs = -1))\n",
    "    ]),\n",
    "    'Regression Tree (P2)': Pipeline(steps=[\n",
    "        ('preprocessor', prep_2), \n",
    "        ('regressor', DecisionTreeRegressor(random_state = 42))\n",
    "    ])\n",
    "}"
   ]
  },
  {
   "cell_type": "markdown",
   "id": "de97ca4e",
   "metadata": {
    "papermill": {
     "duration": 0.005311,
     "end_time": "2025-10-29T01:31:55.324440",
     "exception": false,
     "start_time": "2025-10-29T01:31:55.319129",
     "status": "completed"
    },
    "tags": []
   },
   "source": [
    "### Base MAE"
   ]
  },
  {
   "cell_type": "code",
   "execution_count": 10,
   "id": "e7a971b7",
   "metadata": {
    "execution": {
     "iopub.execute_input": "2025-10-29T01:31:55.336241Z",
     "iopub.status.busy": "2025-10-29T01:31:55.335947Z",
     "iopub.status.idle": "2025-10-29T01:31:55.342440Z",
     "shell.execute_reply": "2025-10-29T01:31:55.341497Z"
    },
    "papermill": {
     "duration": 0.013819,
     "end_time": "2025-10-29T01:31:55.343639",
     "exception": false,
     "start_time": "2025-10-29T01:31:55.329820",
     "status": "completed"
    },
    "tags": []
   },
   "outputs": [
    {
     "name": "stdout",
     "output_type": "stream",
     "text": [
      "--- Baseline Model MAE ---\n",
      "Gok: de mediane uren gewerkt: 35.00 uur\n",
      "De MAE van deze Baseline Gok: 15.92 uur\n"
     ]
    }
   ],
   "source": [
    "baseline_guess = y.median()\n",
    "y_baseline_pred = np.full_like(y, baseline_guess)\n",
    "mae_baseline = mean_absolute_error(y, y_baseline_pred)\n",
    "\n",
    "print(\"--- Baseline Model MAE ---\")\n",
    "print(f\"Gok: de mediane uren gewerkt: {baseline_guess:.2f} uur\")\n",
    "print(f\"De MAE van deze Baseline Gok: {mae_baseline:.2f} uur\")"
   ]
  },
  {
   "cell_type": "code",
   "execution_count": 11,
   "id": "315e5532",
   "metadata": {
    "execution": {
     "iopub.execute_input": "2025-10-29T01:31:55.355644Z",
     "iopub.status.busy": "2025-10-29T01:31:55.355388Z",
     "iopub.status.idle": "2025-10-29T01:32:05.035015Z",
     "shell.execute_reply": "2025-10-29T01:32:05.034002Z"
    },
    "papermill": {
     "duration": 9.6873,
     "end_time": "2025-10-29T01:32:05.036441",
     "exception": false,
     "start_time": "2025-10-29T01:31:55.349141",
     "status": "completed"
    },
    "tags": []
   },
   "outputs": [
    {
     "name": "stdout",
     "output_type": "stream",
     "text": [
      "Start CV voor: KNN Regression...\n",
      "KNN Regression                 - Gem. MAE: 12.25 uur)\n",
      "\n",
      "Start CV voor: SGD Linear Regression...\n",
      "SGD Linear Regression          - Gem. MAE: 12.30 uur)\n",
      "\n",
      "Start CV voor: Random Forest...\n",
      "Random Forest                  - Gem. MAE: 11.80 uur)\n",
      "\n",
      "Start CV voor: Regression Tree...\n",
      "Regression Tree                - Gem. MAE: 14.22 uur)\n",
      "\n",
      "Start CV voor: KNN Regression (P2)...\n",
      "KNN Regression (P2)            - Gem. MAE: 12.04 uur)\n",
      "\n",
      "Start CV voor: SGD Linear Regression (P2)...\n",
      "SGD Linear Regression (P2)     - Gem. MAE: 12.18 uur)\n",
      "\n",
      "Start CV voor: Random Forest (P2)...\n",
      "Random Forest (P2)             - Gem. MAE: 11.68 uur)\n",
      "\n",
      "Start CV voor: Regression Tree (P2)...\n",
      "Regression Tree (P2)           - Gem. MAE: 13.97 uur)\n",
      "\n",
      "\n",
      "--- MAE prestaties gesorteerd ---\n",
      "Random Forest (P2)            11.678096\n",
      "Random Forest                 11.802474\n",
      "KNN Regression (P2)           12.035160\n",
      "SGD Linear Regression (P2)    12.182278\n",
      "KNN Regression                12.250080\n",
      "SGD Linear Regression         12.295602\n",
      "Regression Tree (P2)          13.973720\n",
      "Regression Tree               14.224464\n",
      "dtype: float64\n",
      "\n",
      "--- Opgeslagen Default P2 MAE's ---\n",
      "|                            |       0 |\n",
      "|:---------------------------|--------:|\n",
      "| KNN Regression (P2)        | 12.0352 |\n",
      "| SGD Linear Regression (P2) | 12.1823 |\n",
      "| Random Forest (P2)         | 11.6781 |\n",
      "| Regression Tree (P2)       | 13.9737 |\n"
     ]
    }
   ],
   "source": [
    "all_models = {**models_p1, **models_p2}\n",
    "results_mae = {}\n",
    "K_FOLDS = 5\n",
    "\n",
    "default_results_p2 = {}\n",
    "\n",
    "for name, model in all_models.items():\n",
    "    print(f\"Start CV voor: {name}...\")\n",
    "    \n",
    "    # Gebruik X_f voor P2-modellen, X voor P1-modellen.\n",
    "    data_input = X_f if 'P2' in name else X\n",
    "    \n",
    "    scores = cross_val_score(\n",
    "        model, \n",
    "        data_input, y, \n",
    "        scoring = 'neg_mean_absolute_error', \n",
    "        cv = K_FOLDS, \n",
    "        n_jobs = -1\n",
    "    )\n",
    "    \n",
    "    mean_mae = -scores.mean()\n",
    "    \n",
    "    # Sla alle resultaten op (voor de samenvatting)\n",
    "    results_mae[name] = mean_mae \n",
    "    \n",
    "    # Sla ALLEEN de Pipeline 2 resultaten op (voor vergelijking in Stap 11)\n",
    "    if 'P2' in name:\n",
    "        default_results_p2[name] = mean_mae \n",
    "        \n",
    "    print(f\"{name:<30} - Gem. MAE: {mean_mae:.2f} uur)\\n\")\n",
    "\n",
    "print(\"\\n--- MAE prestaties gesorteerd ---\")\n",
    "results_df = pd.Series(results_mae).sort_values()\n",
    "print(results_df)\n",
    "\n",
    "print(\"\\n--- Opgeslagen Default P2 MAE's ---\")\n",
    "print(pd.Series(default_results_p2).to_markdown())"
   ]
  },
  {
   "cell_type": "markdown",
   "id": "d7fd2caf",
   "metadata": {
    "papermill": {
     "duration": 0.005683,
     "end_time": "2025-10-29T01:32:05.048361",
     "exception": false,
     "start_time": "2025-10-29T01:32:05.042678",
     "status": "completed"
    },
    "tags": []
   },
   "source": [
    "Hieruit blijkt duidelijk dat pipeline 2 beter performed dan pipeline 1, daarom gaan we vanaf hier verder met pipeline 2."
   ]
  },
  {
   "cell_type": "markdown",
   "id": "02566f0b",
   "metadata": {
    "papermill": {
     "duration": 0.00556,
     "end_time": "2025-10-29T01:32:05.059629",
     "exception": false,
     "start_time": "2025-10-29T01:32:05.054069",
     "status": "completed"
    },
    "tags": []
   },
   "source": [
    "## Part C - Tuning with GridSearch"
   ]
  },
  {
   "cell_type": "code",
   "execution_count": 12,
   "id": "d1f8a2ce",
   "metadata": {
    "execution": {
     "iopub.execute_input": "2025-10-29T01:32:05.072588Z",
     "iopub.status.busy": "2025-10-29T01:32:05.072255Z",
     "iopub.status.idle": "2025-10-29T01:32:09.056876Z",
     "shell.execute_reply": "2025-10-29T01:32:09.055817Z"
    },
    "papermill": {
     "duration": 3.993335,
     "end_time": "2025-10-29T01:32:09.058696",
     "exception": false,
     "start_time": "2025-10-29T01:32:05.065361",
     "status": "completed"
    },
    "tags": []
   },
   "outputs": [
    {
     "name": "stdout",
     "output_type": "stream",
     "text": [
      "\n",
      "Start GridSearch voor: KNN Regression (P2)\n",
      "Fitting 5 folds for each of 1 candidates, totalling 5 fits\n",
      "Beste parameters voor KNN Regression (P2): {'regressor__n_neighbors': 13, 'regressor__weights': 'uniform'}\n",
      "Beste CV MAE: 11.8638 uur\n",
      "\n",
      "Start GridSearch voor: SGD Linear Regression (P2)\n",
      "Fitting 5 folds for each of 1 candidates, totalling 5 fits\n",
      "Beste parameters voor SGD Linear Regression (P2): {'regressor__alpha': 1e-95, 'regressor__penalty': 'l2'}\n",
      "Beste CV MAE: 12.1817 uur\n",
      "\n",
      "Start GridSearch voor: Random Forest (P2)\n",
      "Fitting 5 folds for each of 1 candidates, totalling 5 fits\n",
      "Beste parameters voor Random Forest (P2): {'regressor__max_depth': 7, 'regressor__n_estimators': 147}\n",
      "Beste CV MAE: 11.3868 uur\n",
      "\n",
      "Start GridSearch voor: Regression Tree (P2)\n",
      "Fitting 5 folds for each of 1 candidates, totalling 5 fits\n",
      "Beste parameters voor Regression Tree (P2): {'regressor__max_depth': 10, 'regressor__min_samples_leaf': 84}\n",
      "Beste CV MAE: 11.4378 uur\n"
     ]
    }
   ],
   "source": [
    "prep = prep_2 \n",
    "tuned_models = {}\n",
    "\n",
    "par_grids = {\n",
    "    'KNN Regression (P2)': {\n",
    "        'regressor__n_neighbors': [13],\n",
    "        'regressor__weights': ['uniform']\n",
    "    },\n",
    "    'SGD Linear Regression (P2)': {\n",
    "        'regressor__alpha': [0.00000000000000000000000000000000000000000000000000000000000000000000000000000000000000000000001],\n",
    "        'regressor__penalty': ['l2']\n",
    "    },\n",
    "    'Random Forest (P2)': {\n",
    "        'regressor__n_estimators': [147],\n",
    "        'regressor__max_depth': [7]\n",
    "    },\n",
    "    'Regression Tree (P2)': {\n",
    "        'regressor__max_depth': [10],\n",
    "        'regressor__min_samples_leaf': [84]\n",
    "    }\n",
    "}\n",
    "\n",
    "for name, par in par_grids.items():\n",
    "    \n",
    "    orig_pipeline = models_p2[name]\n",
    "    base_pipeline = clone(orig_pipeline)\n",
    "\n",
    "    grid_search = GridSearchCV(\n",
    "        estimator = base_pipeline,\n",
    "        param_grid = par,\n",
    "        scoring = 'neg_mean_absolute_error',\n",
    "        cv = 5, n_jobs = -1, verbose = 1\n",
    "    )\n",
    "    \n",
    "    print(f\"\\nStart GridSearch voor: {name}\")\n",
    "    grid_search.fit(X_f, y)\n",
    "    \n",
    "    tuned_models[name] = grid_search\n",
    "    \n",
    "    print(f\"Beste parameters voor {name}: {grid_search.best_params_}\")\n",
    "    print(f\"Beste CV MAE: {-grid_search.best_score_:.4f} uur\")\n",
    "\n",
    "results_df = pd.DataFrame(grid_search.cv_results_)\n",
    "\n",
    "\n",
    "analysis_cols = [\n",
    "    'params', \n",
    "    'mean_test_score', \n",
    "    'std_test_score', \n",
    "    'rank_test_score'\n",
    "]\n",
    "\n",
    "\n",
    "analysis_df = results_df[analysis_cols].sort_values(by = 'rank_test_score')\n",
    "analysis_df['mean_MAE'] = -analysis_df['mean_test_score']"
   ]
  },
  {
   "cell_type": "code",
   "execution_count": 13,
   "id": "ee74dabd",
   "metadata": {
    "execution": {
     "iopub.execute_input": "2025-10-29T01:32:09.072571Z",
     "iopub.status.busy": "2025-10-29T01:32:09.072055Z",
     "iopub.status.idle": "2025-10-29T01:32:09.077576Z",
     "shell.execute_reply": "2025-10-29T01:32:09.076846Z"
    },
    "papermill": {
     "duration": 0.013768,
     "end_time": "2025-10-29T01:32:09.078855",
     "exception": false,
     "start_time": "2025-10-29T01:32:09.065087",
     "status": "completed"
    },
    "tags": []
   },
   "outputs": [
    {
     "name": "stdout",
     "output_type": "stream",
     "text": [
      "KNN Regression (P2)            Tuned MAE: 11.8638 uur (+/- 0.2883 uur)\n",
      "SGD Linear Regression (P2)     Tuned MAE: 12.1817 uur (+/- 0.2975 uur)\n",
      "Random Forest (P2)             Tuned MAE: 11.3868 uur (+/- 0.3419 uur)\n",
      "Regression Tree (P2)           Tuned MAE: 11.4378 uur (+/- 0.3459 uur)\n"
     ]
    }
   ],
   "source": [
    "tuned_results = {}\n",
    "\n",
    "for name, grid_search_object in tuned_models.items():\n",
    "    \n",
    "    mae = -grid_search_object.best_score_ \n",
    "    best_index = grid_search_object.best_index_\n",
    "    std = grid_search_object.cv_results_['std_test_score'][best_index]\n",
    "    \n",
    "    tuned_results[name] = mae\n",
    "    print(f\"{name:<30} Tuned MAE: {mae:.4f} uur (+/- {std:.4f} uur)\")"
   ]
  },
  {
   "cell_type": "markdown",
   "id": "dfc5b942",
   "metadata": {
    "papermill": {
     "duration": 0.00615,
     "end_time": "2025-10-29T01:32:09.091231",
     "exception": false,
     "start_time": "2025-10-29T01:32:09.085081",
     "status": "completed"
    },
    "tags": []
   },
   "source": [
    "### SGD training curve"
   ]
  },
  {
   "cell_type": "code",
   "execution_count": 14,
   "id": "9f6f8ad8",
   "metadata": {
    "execution": {
     "iopub.execute_input": "2025-10-29T01:32:09.104244Z",
     "iopub.status.busy": "2025-10-29T01:32:09.104001Z",
     "iopub.status.idle": "2025-10-29T01:32:09.560297Z",
     "shell.execute_reply": "2025-10-29T01:32:09.559400Z"
    },
    "papermill": {
     "duration": 0.464546,
     "end_time": "2025-10-29T01:32:09.561741",
     "exception": false,
     "start_time": "2025-10-29T01:32:09.097195",
     "status": "completed"
    },
    "tags": []
   },
   "outputs": [
    {
     "name": "stdout",
     "output_type": "stream",
     "text": [
      "Start MAE: 12.1106 uur\n",
      "Eind MAE na 100 epochs: 11.6373 uur\n"
     ]
    },
    {
     "data": {
      "image/png": "[encoded data removed]",
      "text/plain": [
       "<Figure size 800x400 with 1 Axes>"
      ]
     },
     "metadata": {},
     "output_type": "display_data"
    }
   ],
   "source": [
    "X_train_curve, X_test_curve, y_train_curve, y_test_curve = train_test_split(\n",
    "    X_f, y, test_size = 0.1, random_state = 42\n",
    ")\n",
    "\n",
    "sgd_grid_result = tuned_models['SGD Linear Regression (P2)']\n",
    "best_sgd_pipeline = sgd_grid_result.best_estimator_\n",
    "\n",
    "sgd_regressor_params = best_sgd_pipeline.named_steps['regressor'].get_params()\n",
    "\n",
    "new_sgd_regressor = SGDRegressor(\n",
    "    **sgd_regressor_params\n",
    ")\n",
    "\n",
    "prep_transform = best_sgd_pipeline.named_steps['preprocessor']\n",
    "X_train_transformed = prep_transform.fit_transform(X_train_curve)\n",
    "X_test_transformed = prep_transform.transform(X_test_curve)\n",
    "\n",
    "epochs = 100\n",
    "mae_history = []\n",
    "\n",
    "for epoch in range(epochs):\n",
    "    new_sgd_regressor.partial_fit(X_train_transformed, y_train_curve)\n",
    "    \n",
    "    y_pred = new_sgd_regressor.predict(X_test_transformed)\n",
    "    mae = mean_absolute_error(y_test_curve, y_pred)\n",
    "    mae_history.append(mae)\n",
    "\n",
    "\n",
    "print(f\"Start MAE: {mae_history[0]:.4f} uur\")\n",
    "print(f\"Eind MAE na {epochs} epochs: {mae_history[-1]:.4f} uur\")\n",
    "\n",
    "plt.figure(figsize=(8, 4))\n",
    "plt.plot(range(len(mae_history)), mae_history, marker='o', markersize=3, linestyle='-', color='blue')\n",
    "plt.title('SGD Regressor: MAE per Epoch')\n",
    "plt.xlabel('Epochs')\n",
    "plt.ylabel('Mean Absolute Error (MAE)')\n",
    "plt.grid(True, linestyle='--', alpha=0.5)\n",
    "plt.show()"
   ]
  },
  {
   "cell_type": "markdown",
   "id": "b1dfaeb0",
   "metadata": {
    "papermill": {
     "duration": 0.006796,
     "end_time": "2025-10-29T01:32:09.575788",
     "exception": false,
     "start_time": "2025-10-29T01:32:09.568992",
     "status": "completed"
    },
    "tags": []
   },
   "source": [
    "### Comparing performance of all models before and after hyperparameter tuning"
   ]
  },
  {
   "cell_type": "code",
   "execution_count": 15,
   "id": "b02cf212",
   "metadata": {
    "execution": {
     "iopub.execute_input": "2025-10-29T01:32:09.590553Z",
     "iopub.status.busy": "2025-10-29T01:32:09.590258Z",
     "iopub.status.idle": "2025-10-29T01:32:09.597993Z",
     "shell.execute_reply": "2025-10-29T01:32:09.597012Z"
    },
    "papermill": {
     "duration": 0.016565,
     "end_time": "2025-10-29T01:32:09.599235",
     "exception": false,
     "start_time": "2025-10-29T01:32:09.582670",
     "status": "completed"
    },
    "tags": []
   },
   "outputs": [
    {
     "name": "stdout",
     "output_type": "stream",
     "text": [
      "| Model                      |   Default MAE |   Tuned MAE |   Improvement |\n",
      "|:---------------------------|--------------:|------------:|--------------:|\n",
      "| KNN Regression (P2)        |       12.0352 |     11.8638 |        0.1713 |\n",
      "| SGD Linear Regression (P2) |       12.1823 |     12.1817 |        0.0005 |\n",
      "| Random Forest (P2)         |       11.6781 |     11.3868 |        0.2913 |\n",
      "| Regression Tree (P2)       |       13.9737 |     11.4378 |        2.536  |\n",
      "\n",
      "Best model after hyperparameter tuning is: Random Forest (P2) with a MAE of 11.3868.\n"
     ]
    }
   ],
   "source": [
    "comparison_data = []\n",
    "best_overall_mae = float('inf')\n",
    "best_overall_model = \"\"\n",
    "\n",
    "for name, mae_default in default_results_p2.items():\n",
    "    mae_tuned = tuned_results.get(name, float('nan'))\n",
    "    \n",
    "    if not np.isnan(mae_tuned): \n",
    "        if mae_tuned < best_overall_mae:\n",
    "            best_overall_mae = mae_tuned\n",
    "            best_overall_model = name\n",
    "            \n",
    "        improvement = mae_default - mae_tuned\n",
    "        \n",
    "        comparison_data.append({\n",
    "            'Model': name,\n",
    "            'Default MAE': f\"{mae_default:.4f}\",\n",
    "            'Tuned MAE': f\"{mae_tuned:.4f}\",\n",
    "            'Improvement': f\"{improvement:.4f}\"\n",
    "        })\n",
    "    else:\n",
    "        comparison_data.append({\n",
    "            'Model': name,\n",
    "            'Default MAE': f\"{mae_default:.4f}\",\n",
    "            'Tuned MAE': 'N/A (Tuning Mislukt)',\n",
    "            'Improvement': 'N/A'\n",
    "        })\n",
    "\n",
    "comparison_df = pd.DataFrame(comparison_data)\n",
    "print(comparison_df.to_markdown(index = False))\n",
    "\n",
    "print(f\"\\nBest model after hyperparameter tuning is: {best_overall_model} with a MAE of {best_overall_mae:.4f}.\")"
   ]
  },
  {
   "cell_type": "markdown",
   "id": "8b141411",
   "metadata": {
    "cellIdentifier": "yixry6lgnjpdvl4nonavpm",
    "papermill": {
     "duration": 0.006598,
     "end_time": "2025-10-29T01:32:09.612616",
     "exception": false,
     "start_time": "2025-10-29T01:32:09.606018",
     "status": "completed"
    },
    "tags": []
   },
   "source": [
    "# Autograder "
   ]
  },
  {
   "cell_type": "markdown",
   "id": "7193d762",
   "metadata": {
    "cellIdentifier": "5ewf130yhryoy6x3s4k4g",
    "papermill": {
     "duration": 0.006565,
     "end_time": "2025-10-29T01:32:09.625748",
     "exception": false,
     "start_time": "2025-10-29T01:32:09.619183",
     "status": "completed"
    },
    "tags": []
   },
   "source": [
    "In the autograder you will need to provide two things: 1) estimate of the MAE of your model on unseen data, 2) the predictions on the autograder data. For the autograder data we only provide the features and not the regression targets. Thus, you cannot compute the MAE on this data yourself - you need to estimate that with the data provided above. "
   ]
  },
  {
   "cell_type": "code",
   "execution_count": 16,
   "id": "916b2606",
   "metadata": {
    "cellIdentifier": "ejamawiie29ybpor5e0qt",
    "execution": {
     "iopub.execute_input": "2025-10-29T01:32:09.641177Z",
     "iopub.status.busy": "2025-10-29T01:32:09.640367Z",
     "iopub.status.idle": "2025-10-29T01:32:09.701159Z",
     "shell.execute_reply": "2025-10-29T01:32:09.700325Z"
    },
    "papermill": {
     "duration": 0.069875,
     "end_time": "2025-10-29T01:32:09.702531",
     "exception": false,
     "start_time": "2025-10-29T01:32:09.632656",
     "status": "completed"
    },
    "tags": []
   },
   "outputs": [
    {
     "data": {
      "text/html": [
       "<div>\n",
       "<style scoped>\n",
       "    .dataframe tbody tr th:only-of-type {\n",
       "        vertical-align: middle;\n",
       "    }\n",
       "\n",
       "    .dataframe tbody tr th {\n",
       "        vertical-align: top;\n",
       "    }\n",
       "\n",
       "    .dataframe thead th {\n",
       "        text-align: right;\n",
       "    }\n",
       "</style>\n",
       "<table border=\"1\" class=\"dataframe\">\n",
       "  <thead>\n",
       "    <tr style=\"text-align: right;\">\n",
       "      <th></th>\n",
       "      <th>hhi</th>\n",
       "      <th>whi</th>\n",
       "      <th>hhi2</th>\n",
       "      <th>education</th>\n",
       "      <th>race</th>\n",
       "      <th>hispanic</th>\n",
       "      <th>experience</th>\n",
       "      <th>kidslt6</th>\n",
       "      <th>kids618</th>\n",
       "      <th>husby</th>\n",
       "      <th>region</th>\n",
       "    </tr>\n",
       "  </thead>\n",
       "  <tbody>\n",
       "    <tr>\n",
       "      <th>0</th>\n",
       "      <td>no</td>\n",
       "      <td>yes</td>\n",
       "      <td>no</td>\n",
       "      <td>16years</td>\n",
       "      <td>white</td>\n",
       "      <td>no</td>\n",
       "      <td>25.0</td>\n",
       "      <td>0.0</td>\n",
       "      <td>0.0</td>\n",
       "      <td>0.0</td>\n",
       "      <td>west</td>\n",
       "    </tr>\n",
       "    <tr>\n",
       "      <th>1</th>\n",
       "      <td>no</td>\n",
       "      <td>no</td>\n",
       "      <td>no</td>\n",
       "      <td>12years</td>\n",
       "      <td>white</td>\n",
       "      <td>no</td>\n",
       "      <td>41.0</td>\n",
       "      <td>0.0</td>\n",
       "      <td>0.0</td>\n",
       "      <td>0.0</td>\n",
       "      <td>south</td>\n",
       "    </tr>\n",
       "    <tr>\n",
       "      <th>2</th>\n",
       "      <td>yes</td>\n",
       "      <td>yes</td>\n",
       "      <td>yes</td>\n",
       "      <td>&gt;16years</td>\n",
       "      <td>white</td>\n",
       "      <td>no</td>\n",
       "      <td>21.0</td>\n",
       "      <td>0.0</td>\n",
       "      <td>2.0</td>\n",
       "      <td>34.3</td>\n",
       "      <td>other</td>\n",
       "    </tr>\n",
       "    <tr>\n",
       "      <th>3</th>\n",
       "      <td>no</td>\n",
       "      <td>yes</td>\n",
       "      <td>yes</td>\n",
       "      <td>9-11years</td>\n",
       "      <td>NaN</td>\n",
       "      <td>no</td>\n",
       "      <td>46.5</td>\n",
       "      <td>0.0</td>\n",
       "      <td>0.0</td>\n",
       "      <td>0.0</td>\n",
       "      <td>other</td>\n",
       "    </tr>\n",
       "    <tr>\n",
       "      <th>4</th>\n",
       "      <td>no</td>\n",
       "      <td>no</td>\n",
       "      <td>no</td>\n",
       "      <td>13-15years</td>\n",
       "      <td>white</td>\n",
       "      <td>no</td>\n",
       "      <td>9.0</td>\n",
       "      <td>0.0</td>\n",
       "      <td>0.0</td>\n",
       "      <td>25.0</td>\n",
       "      <td>northcentral</td>\n",
       "    </tr>\n",
       "  </tbody>\n",
       "</table>\n",
       "</div>"
      ],
      "text/plain": [
       "   hhi  whi hhi2   education   race hispanic  experience  kidslt6  kids618  \\\n",
       "0   no  yes   no     16years  white       no        25.0      0.0      0.0   \n",
       "1   no   no   no     12years  white       no        41.0      0.0      0.0   \n",
       "2  yes  yes  yes    >16years  white       no        21.0      0.0      2.0   \n",
       "3   no  yes  yes   9-11years    NaN       no        46.5      0.0      0.0   \n",
       "4   no   no   no  13-15years  white       no         9.0      0.0      0.0   \n",
       "\n",
       "   husby        region  \n",
       "0    0.0          west  \n",
       "1    0.0         south  \n",
       "2   34.3         other  \n",
       "3    0.0         other  \n",
       "4   25.0  northcentral  "
      ]
     },
     "execution_count": 16,
     "metadata": {},
     "output_type": "execute_result"
    }
   ],
   "source": [
    "data_autograder = pd.read_csv('/kaggle/input/autograder/health_insurance_autograde.csv')\n",
    "data_autograder.head()\n"
   ]
  },
  {
   "cell_type": "code",
   "execution_count": 17,
   "id": "c5fa04f0",
   "metadata": {
    "execution": {
     "iopub.execute_input": "2025-10-29T01:32:09.717362Z",
     "iopub.status.busy": "2025-10-29T01:32:09.717088Z",
     "iopub.status.idle": "2025-10-29T01:32:13.023999Z",
     "shell.execute_reply": "2025-10-29T01:32:13.023020Z"
    },
    "papermill": {
     "duration": 3.315586,
     "end_time": "2025-10-29T01:32:13.025388",
     "exception": false,
     "start_time": "2025-10-29T01:32:09.709802",
     "status": "completed"
    },
    "tags": []
   },
   "outputs": [
    {
     "name": "stdout",
     "output_type": "stream",
     "text": [
      "\n",
      "==================================================\n",
      "Final Model: Random Forest (P2) wordt getraind op alle data.\n",
      "==================================================\n",
      "Fitting 5 folds for each of 1 candidates, totalling 5 fits\n",
      "Training voltooid. Start voorspelling op autograder data.\n",
      "[40.14296143  3.86616581 41.90130667 ... 15.48590461 23.61036075\n",
      " 21.5246007 ]\n"
     ]
    }
   ],
   "source": [
    "BEST_MODEL_NAME = best_overall_model\n",
    "BEST_MAE_ESTIMATE = best_overall_mae\n",
    "\n",
    "best_model_pipeline = tuned_models[BEST_MODEL_NAME]\n",
    "\n",
    "print(\"\\n\" + \"=\"*50)\n",
    "print(f\"Final Model: {BEST_MODEL_NAME} wordt getraind op alle data.\")\n",
    "print(\"=\"*50)\n",
    "\n",
    "# Train de pipeline op de VOLLEDIGE trainingsdataset\n",
    "final_best_model = best_model_pipeline.fit(X_f, y)\n",
    "print(\"Training voltooid. Start voorspelling op autograder data.\")\n",
    "\n",
    "data_autograder_f = feature_engineer_p2(data_autograder)\n",
    "\n",
    "predictions_autograder_data = final_best_model.predict(data_autograder_f)\n",
    "predictions_autograder_data = np.maximum(0, predictions_autograder_data)\n",
    "print(predictions_autograder_data)"
   ]
  },
  {
   "cell_type": "code",
   "execution_count": 18,
   "id": "76b1ddaf",
   "metadata": {
    "cellIdentifier": "u04zns1sc6i9v315k7wf",
    "execution": {
     "iopub.execute_input": "2025-10-29T01:32:13.041245Z",
     "iopub.status.busy": "2025-10-29T01:32:13.040556Z",
     "iopub.status.idle": "2025-10-29T01:32:13.070744Z",
     "shell.execute_reply": "2025-10-29T01:32:13.070042Z"
    },
    "papermill": {
     "duration": 0.039536,
     "end_time": "2025-10-29T01:32:13.072362",
     "exception": false,
     "start_time": "2025-10-29T01:32:13.032826",
     "status": "completed"
    },
    "tags": []
   },
   "outputs": [],
   "source": [
    "# TODO Replace this with your own estimate of the MAE of your best model\n",
    "estimate_MAE_on_new_data = np.array([BEST_MAE_ESTIMATE])\n",
    "\n",
    "# TODO Replace this with the predictions of your best model\n",
    "# via e.g. prediction = model.predict(data_autograder)\n",
    "predictions_autograder_data = predictions_autograder_data.round(4)\n",
    "\n",
    "# Upload this file to the Vocareum autograder:\n",
    "result = np.append(estimate_MAE_on_new_data, predictions_autograder_data)\n",
    "pd.DataFrame(result).to_csv(\"autograder_submission.txt\", index=False, header=False)"
   ]
  }
 ],
 "metadata": {
  "celltoolbar": "Create Assignment",
  "kaggle": {
   "accelerator": "none",
   "dataSources": [
    {
     "datasetId": 8547786,
     "sourceId": 13465727,
     "sourceType": "datasetVersion"
    },
    {
     "datasetId": 8547807,
     "sourceId": 13465761,
     "sourceType": "datasetVersion"
    }
   ],
   "dockerImageVersionId": 31153,
   "isGpuEnabled": false,
   "isInternetEnabled": false,
   "language": "python",
   "sourceType": "notebook"
  },
  "kernelspec": {
   "display_name": "Python 3",
   "language": "python",
   "name": "python3"
  },
  "language_info": {
   "codemirror_mode": {
    "name": "ipython",
    "version": 3
   },
   "file_extension": ".py",
   "mimetype": "text/x-python",
   "name": "python",
   "nbconvert_exporter": "python",
   "pygments_lexer": "ipython3",
   "version": "3.11.13"
  },
  "papermill": {
   "default_parameters": {},
   "duration": 28.281508,
   "end_time": "2025-10-29T01:32:15.699702",
   "environment_variables": {},
   "exception": null,
   "input_path": "__notebook__.ipynb",
   "output_path": "__notebook__.ipynb",
   "parameters": {},
   "start_time": "2025-10-29T01:31:47.418194",
   "version": "2.6.0"
  },
  "vscode": {
   "interpreter": {
    "hash": "2469a70536e4d2335a2ea8907942d0699c37342a371ac185bdb5b0aa6f073890"
   }
  }
 },
 "nbformat": 4,
 "nbformat_minor": 5
}
