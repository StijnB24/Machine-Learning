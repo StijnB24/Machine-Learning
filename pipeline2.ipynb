{
 "cells": [
  {
   "cell_type": "markdown",
   "id": "f22c292e",
   "metadata": {
    "cellIdentifier": "lwdv177dhd94kjdof4jew8",
    "nbgrader": {
     "grade": false,
     "grade_id": "cell-edb192a51f1f59eb",
     "locked": true,
     "schema_version": 3,
     "solution": false,
     "task": false
    },
    "papermill": {
     "duration": 0.004399,
     "end_time": "2025-10-27T23:51:55.180693",
     "exception": false,
     "start_time": "2025-10-27T23:51:55.176294",
     "status": "completed"
    },
    "tags": []
   },
   "source": [
    "# [](http://)TI3145TU Final Assignment \n",
    "## Health Insurance "
   ]
  },
  {
   "cell_type": "markdown",
   "id": "87565049",
   "metadata": {
    "cellIdentifier": "xfw5ms6qx7c98rept16dri",
    "nbgrader": {
     "grade": false,
     "grade_id": "cell-b4b9196b1578a999",
     "locked": true,
     "schema_version": 3,
     "solution": false,
     "task": false
    },
    "papermill": {
     "duration": 0.002995,
     "end_time": "2025-10-27T23:51:55.187594",
     "exception": false,
     "start_time": "2025-10-27T23:51:55.184599",
     "status": "completed"
    },
    "tags": []
   },
   "source": [
    "We hope you enjoy this assignment, good luck!\n",
    "\n",
    "Student names: XXX\n",
    "\n",
    "Student numbers: XXX"
   ]
  },
  {
   "cell_type": "markdown",
   "id": "e5870185",
   "metadata": {
    "papermill": {
     "duration": 0.002765,
     "end_time": "2025-10-27T23:51:55.193334",
     "exception": false,
     "start_time": "2025-10-27T23:51:55.190569",
     "status": "completed"
    },
    "tags": []
   },
   "source": [
    "## Part A - Data Exploration and Preprocessing"
   ]
  },
  {
   "cell_type": "markdown",
   "id": "f3c585f4",
   "metadata": {
    "cellIdentifier": "4ynzvgl75mclz9celnpmxq",
    "nbgrader": {
     "grade": false,
     "grade_id": "cell-1b099224fae6a999",
     "locked": true,
     "schema_version": 3,
     "solution": false,
     "task": false
    },
    "papermill": {
     "duration": 0.002715,
     "end_time": "2025-10-27T23:51:55.198961",
     "exception": false,
     "start_time": "2025-10-27T23:51:55.196246",
     "status": "completed"
    },
    "tags": []
   },
   "source": [
    "### Imports"
   ]
  },
  {
   "cell_type": "code",
   "execution_count": 1,
   "id": "218c0952",
   "metadata": {
    "cellIdentifier": "npwy0dl4jxo674ysbeeg3w",
    "execution": {
     "iopub.execute_input": "2025-10-27T23:51:55.207400Z",
     "iopub.status.busy": "2025-10-27T23:51:55.207019Z",
     "iopub.status.idle": "2025-10-27T23:51:58.713973Z",
     "shell.execute_reply": "2025-10-27T23:51:58.713283Z"
    },
    "papermill": {
     "duration": 3.51371,
     "end_time": "2025-10-27T23:51:58.715537",
     "exception": false,
     "start_time": "2025-10-27T23:51:55.201827",
     "status": "completed"
    },
    "tags": []
   },
   "outputs": [],
   "source": [
    "import pandas as pd\n",
    "import numpy as np\n",
    "\n",
    "from sklearn.preprocessing import StandardScaler, OneHotEncoder, MinMaxScaler, PolynomialFeatures\n",
    "from sklearn.impute import SimpleImputer\n",
    "from sklearn.compose import ColumnTransformer\n",
    "from sklearn.pipeline import Pipeline\n",
    "from sklearn.neighbors import KNeighborsRegressor\n",
    "from sklearn.linear_model import SGDRegressor\n",
    "from sklearn.ensemble import RandomForestRegressor\n",
    "from sklearn.tree import DecisionTreeRegressor\n",
    "from sklearn.metrics import mean_absolute_error\n",
    "from sklearn.model_selection import cross_val_score\n",
    "\n",
    "import category_encoders as ce"
   ]
  },
  {
   "cell_type": "markdown",
   "id": "f769a74a",
   "metadata": {
    "cellIdentifier": "exxkp4rkf215c9ouoymvv",
    "nbgrader": {
     "grade": false,
     "grade_id": "cell-27453141f8aa1fdd",
     "locked": true,
     "schema_version": 3,
     "solution": false,
     "task": false
    },
    "papermill": {
     "duration": 0.002893,
     "end_time": "2025-10-27T23:51:58.721801",
     "exception": false,
     "start_time": "2025-10-27T23:51:58.718908",
     "status": "completed"
    },
    "tags": []
   },
   "source": [
    "### Load data"
   ]
  },
  {
   "cell_type": "code",
   "execution_count": 2,
   "id": "868304f6",
   "metadata": {
    "cellIdentifier": "2ct6gjkr185f67ahmkzndo",
    "execution": {
     "iopub.execute_input": "2025-10-27T23:51:58.728969Z",
     "iopub.status.busy": "2025-10-27T23:51:58.728602Z",
     "iopub.status.idle": "2025-10-27T23:51:58.784612Z",
     "shell.execute_reply": "2025-10-27T23:51:58.783907Z"
    },
    "papermill": {
     "duration": 0.060925,
     "end_time": "2025-10-27T23:51:58.785786",
     "exception": false,
     "start_time": "2025-10-27T23:51:58.724861",
     "status": "completed"
    },
    "tags": []
   },
   "outputs": [
    {
     "name": "stdout",
     "output_type": "stream",
     "text": [
      "   whrswk  hhi  whi hhi2   education   race hispanic  experience  kidslt6  \\\n",
      "0    40.0   no  yes  yes  13-15years  white       no        17.0      0.0   \n",
      "1    40.0   no  yes  yes  13-15years  white       no         4.0      1.0   \n",
      "2     0.0  yes   no  yes     16years  white       no        21.0      0.0   \n",
      "3    40.0   no   no  yes  13-15years  white       no        22.0      NaN   \n",
      "4    35.0   no  yes   no     12years  white       no        15.0      0.0   \n",
      "\n",
      "   kids618   husby        region  \n",
      "0      1.0  22.000         south  \n",
      "1      0.0  15.000         south  \n",
      "2      1.0  99.999         other  \n",
      "3      NaN  60.000  northcentral  \n",
      "4      2.0   0.000         south  \n"
     ]
    },
    {
     "name": "stderr",
     "output_type": "stream",
     "text": [
      "/usr/local/lib/python3.11/dist-packages/pandas/io/formats/format.py:1458: RuntimeWarning: invalid value encountered in greater\n",
      "  has_large_values = (abs_vals > 1e6).any()\n",
      "/usr/local/lib/python3.11/dist-packages/pandas/io/formats/format.py:1459: RuntimeWarning: invalid value encountered in less\n",
      "  has_small_values = ((abs_vals < 10 ** (-self.digits)) & (abs_vals > 0)).any()\n",
      "/usr/local/lib/python3.11/dist-packages/pandas/io/formats/format.py:1459: RuntimeWarning: invalid value encountered in greater\n",
      "  has_small_values = ((abs_vals < 10 ** (-self.digits)) & (abs_vals > 0)).any()\n"
     ]
    }
   ],
   "source": [
    "# These are your training samples along with their labels\n",
    "data = pd.read_csv('/kaggle/input/health-insurance/health_insurance_train.csv')\n",
    "\n",
    "X = data.drop('whrswk', axis=1)\n",
    "y = data['whrswk']\n",
    "\n",
    "print(data.head())\n",
    "# You need to extract the features and the regression target. The regression target is 'whrswk'. "
   ]
  },
  {
   "cell_type": "code",
   "execution_count": 3,
   "id": "08d68b55",
   "metadata": {
    "execution": {
     "iopub.execute_input": "2025-10-27T23:51:58.793407Z",
     "iopub.status.busy": "2025-10-27T23:51:58.793178Z",
     "iopub.status.idle": "2025-10-27T23:51:58.810747Z",
     "shell.execute_reply": "2025-10-27T23:51:58.809214Z"
    },
    "papermill": {
     "duration": 0.022412,
     "end_time": "2025-10-27T23:51:58.811713",
     "exception": false,
     "start_time": "2025-10-27T23:51:58.789301",
     "status": "completed"
    },
    "tags": []
   },
   "outputs": [
    {
     "name": "stdout",
     "output_type": "stream",
     "text": [
      "    whrswk  hhi  whi hhi2   education   race hispanic  experience  kidslt6  \\\n",
      "0     40.0   no  yes  yes  13-15years  white       no        17.0      0.0   \n",
      "1     40.0   no  yes  yes  13-15years  white       no         4.0      1.0   \n",
      "2      0.0  yes   no  yes     16years  white       no        21.0      0.0   \n",
      "3     40.0   no   no  yes  13-15years  white       no        22.0      NaN   \n",
      "4     35.0   no  yes   no     12years  white       no        15.0      0.0   \n",
      "5     20.0   no   no   no   9-11years  white       no        25.5      0.0   \n",
      "6      0.0  yes   no  yes  13-15years  white       no        45.0      0.0   \n",
      "7     40.0  yes  yes  yes  13-15years  black       no        23.0      0.0   \n",
      "8      5.0  yes   no  yes  13-15years    NaN       no        20.0      1.0   \n",
      "9     40.0   no  yes  yes     12years  white       no         9.0      1.0   \n",
      "10    40.0   no   no   no     12years  white       no        33.0      0.0   \n",
      "11    40.0   no   no   no   9-11years  white       no         5.5      1.0   \n",
      "12    35.0   no  yes   no     12years    NaN      yes        26.0      0.0   \n",
      "13    45.0   no  yes  yes     16years  white       no         7.0      0.0   \n",
      "14     0.0  yes   no  yes     12years  white       no        38.0      0.0   \n",
      "15    20.0  yes   no  yes     12years  white       no         9.0      1.0   \n",
      "16     0.0  yes   no  yes     12years  black       no         3.0      NaN   \n",
      "17    40.0   no  yes  yes     12years  white      yes        30.0      0.0   \n",
      "18     0.0  yes   no  yes  13-15years  white       no        34.0      0.0   \n",
      "19     0.0   no   no  yes     16years  white       no        19.0      1.0   \n",
      "20    25.0   no  yes   no  13-15years  white       no        20.0      0.0   \n",
      "21    40.0   no  yes  yes     12years  white       no        19.0      0.0   \n",
      "22    40.0  yes   no  yes  13-15years  white       no        11.0      0.0   \n",
      "23    40.0  yes   no  yes  13-15years    NaN       no        29.0      0.0   \n",
      "24     0.0   no  yes  yes     12years  white      yes        37.0      0.0   \n",
      "25    40.0   no  yes  yes     16years  black       no         8.0      1.0   \n",
      "26     0.0  yes   no  yes     12years    NaN       no        21.0      0.0   \n",
      "27     0.0   no   no   no     <9years  white       no        27.0      0.0   \n",
      "28    25.0  yes   no  yes     12years  white       no        22.0      NaN   \n",
      "29    40.0   no   no   no     12years    NaN       no        41.0      0.0   \n",
      "30    40.0   no  yes   no     12years  white       no        26.0      0.0   \n",
      "31    35.0  yes  yes  yes     16years  black       no        25.0      1.0   \n",
      "32     0.0   no   no   no     <9years  white      yes        10.0      1.0   \n",
      "33    35.0   no  yes  yes     16years    NaN       no        12.0      0.0   \n",
      "34    35.0  yes   no  yes     12years  white       no        29.0      0.0   \n",
      "35     0.0  yes   no  yes   9-11years  white       no        22.5      0.0   \n",
      "36     0.0  yes   no  yes   9-11years  white      yes        48.5      0.0   \n",
      "37    40.0  yes  yes  yes   9-11years  white       no        23.5      0.0   \n",
      "38    40.0  yes  yes  yes     12years  white       no        21.0      0.0   \n",
      "39     0.0  yes   no  yes   9-11years  white       no        30.5      0.0   \n",
      "40    40.0   no   no   no   9-11years  white       no        20.5      0.0   \n",
      "41    40.0   no  yes   no     12years  white       no        38.0      NaN   \n",
      "42     0.0   no   no  yes   9-11years  white       no        20.5      0.0   \n",
      "43    35.0   no   no   no  13-15years    NaN       no        25.0      0.0   \n",
      "44    36.0  yes   no  yes     16years  white       no         7.0      0.0   \n",
      "45    43.0   no  yes   no    >16years  white       no         7.0      0.0   \n",
      "46     0.0  yes   no  yes  13-15years  white       no        19.0      2.0   \n",
      "47    60.0   no  yes   no  13-15years  white       no        13.0      0.0   \n",
      "48    25.0  yes   no  yes  13-15years  white       no         5.0      0.0   \n",
      "49    42.0   no  yes   no  13-15years  white       no         6.0      1.0   \n",
      "50    30.0   no   no   no     12years  white       no        10.0      1.0   \n",
      "51    40.0   no  yes   no     12years  white       no        35.0      0.0   \n",
      "52    40.0  yes  yes  yes     12years  white       no        30.0      NaN   \n",
      "53     0.0  yes   no  yes     16years  white       no        38.0      0.0   \n",
      "54    38.0  yes   no  yes     12years  white       no        15.0      0.0   \n",
      "55    30.0  yes   no  yes  13-15years  white       no        26.0      0.0   \n",
      "56     0.0  yes   no  yes  13-15years  white       no         8.0      1.0   \n",
      "57     0.0  yes   no  yes  13-15years  white       no         8.0      2.0   \n",
      "58    44.0   no  yes  yes     12years  black       no        21.0      0.0   \n",
      "59    40.0   no  yes   no  13-15years  white       no        20.0      0.0   \n",
      "60    30.0  yes  yes  yes   9-11years  white       no        19.5      1.0   \n",
      "61    50.0   no  yes  yes  13-15years  white       no        16.0      0.0   \n",
      "62    40.0   no  yes   no     12years  white       no        34.0      0.0   \n",
      "63    45.0  yes   no  yes     12years  white       no        21.0      NaN   \n",
      "64    40.0  yes   no  yes     16years  white       no        25.0      0.0   \n",
      "65    35.0   no  yes   no  13-15years    NaN       no        25.0      0.0   \n",
      "66    40.0   no  yes   no     12years  white       no        25.0      0.0   \n",
      "67    80.0   no   no   no  13-15years  black       no        22.0      0.0   \n",
      "68    35.0   no  yes  yes     12years  white       no        38.0      0.0   \n",
      "69    40.0   no  yes   no     12years    NaN       no        14.0      2.0   \n",
      "70    40.0   no  yes   no     16years  white       no        26.0      0.0   \n",
      "71    35.0   no  yes   no     12years  white       no        14.0      1.0   \n",
      "72    10.0  yes   no  yes     12years  other       no        15.0      0.0   \n",
      "73     0.0  yes   no  yes  13-15years  white       no        14.0      3.0   \n",
      "74    44.0  yes  yes  yes  13-15years  white       no        29.0      NaN   \n",
      "75    45.0  yes   no  yes     12years  white       no        26.0      0.0   \n",
      "76     0.0   no   no   no     12years  white       no        47.0      0.0   \n",
      "77     0.0   no  yes   no  13-15years  white       no        12.0      1.0   \n",
      "78    40.0   no  yes  yes     12years  white       no        35.0      0.0   \n",
      "79    40.0  yes   no  yes     12years    NaN       no        15.0      2.0   \n",
      "80    40.0  yes   no  yes     <9years    NaN      yes        31.0      0.0   \n",
      "81     0.0  yes   no  yes     12years  white       no        15.0      0.0   \n",
      "82    40.0   no  yes   no     16years  white       no        27.0      0.0   \n",
      "83     0.0   no   no   no     12years  white       no        19.0      1.0   \n",
      "84     0.0  yes   no  yes     12years    NaN       no        24.0      0.0   \n",
      "85    45.0   no  yes  yes     12years  white       no        35.0      0.0   \n",
      "86    32.0   no  yes   no     16years  white       no        10.0      0.0   \n",
      "87    40.0  yes   no  yes  13-15years  black       no        13.0      0.0   \n",
      "88     0.0  yes   no  yes     12years  white       no        19.0      1.0   \n",
      "89     0.0   no   no   no     12years  white       no        45.0      NaN   \n",
      "90    15.0   no   no   no  13-15years    NaN       no        22.0      0.0   \n",
      "91     0.0  yes   no  yes     12years  white       no        39.0      0.0   \n",
      "92     0.0   no   no   no     12years  white       no        47.0      0.0   \n",
      "93    40.0   no   no   no     12years    NaN       no         8.0      0.0   \n",
      "94    50.0   no  yes   no     16years  white       no        14.0      0.0   \n",
      "95     0.0   no   no   no   9-11years  white       no        11.5      2.0   \n",
      "96    25.0   no   no   no    >16years  white       no        16.0      0.0   \n",
      "97    16.0  yes   no  yes     12years  white       no        33.0      0.0   \n",
      "98    50.0   no  yes   no     16years  white       no         5.0      0.0   \n",
      "99    30.0  yes   no  yes     16years  white       no        15.0      NaN   \n",
      "\n",
      "    kids618   husby        region  \n",
      "0       1.0  22.000         south  \n",
      "1       0.0  15.000         south  \n",
      "2       1.0  99.999         other  \n",
      "3       NaN  60.000  northcentral  \n",
      "4       2.0   0.000         south  \n",
      "5       0.0   0.000         other  \n",
      "6       0.0  69.000         south  \n",
      "7       1.0  29.432         other  \n",
      "8       1.0  53.000         south  \n",
      "9       1.0  18.000          west  \n",
      "10      0.0   0.000         other  \n",
      "11      0.0  20.000  northcentral  \n",
      "12      1.0   0.000         south  \n",
      "13      0.0  40.000         south  \n",
      "14      0.0   0.000         other  \n",
      "15      1.0  33.000         south  \n",
      "16      NaN   4.368          west  \n",
      "17      0.0  60.000         other  \n",
      "18      0.0  99.999         other  \n",
      "19      1.0  43.000  northcentral  \n",
      "20      1.0  37.000         other  \n",
      "21      0.0  11.000  northcentral  \n",
      "22      0.0  40.000         south  \n",
      "23      1.0  45.000         south  \n",
      "24      0.0  50.000          west  \n",
      "25      1.0  19.000         south  \n",
      "26      1.0  60.000          west  \n",
      "27      0.0   0.000         south  \n",
      "28      NaN  33.000          west  \n",
      "29      0.0  10.400  northcentral  \n",
      "30      0.0   0.000         south  \n",
      "31      1.0  31.000         other  \n",
      "32      0.0   1.900         other  \n",
      "33      0.0  29.500         other  \n",
      "34      2.0  90.000         other  \n",
      "35      0.0  37.000  northcentral  \n",
      "36      0.0   0.000         south  \n",
      "37      0.0  40.000         other  \n",
      "38      2.0  30.000  northcentral  \n",
      "39      1.0   0.000         south  \n",
      "40      0.0   0.000         south  \n",
      "41      NaN   0.000         south  \n",
      "42      0.0  21.000         south  \n",
      "43      2.0   9.999         other  \n",
      "44      0.0  35.000         other  \n",
      "45      0.0  12.317         other  \n",
      "46      3.0  62.000          west  \n",
      "47      0.0   0.000         south  \n",
      "48      0.0  13.400          west  \n",
      "49      0.0   5.300         south  \n",
      "50      2.0   7.000          west  \n",
      "51      0.0   2.000  northcentral  \n",
      "52      NaN  15.000  northcentral  \n",
      "53      0.0   0.000  northcentral  \n",
      "54      2.0  42.000          west  \n",
      "55      0.0  37.000  northcentral  \n",
      "56      1.0  40.000  northcentral  \n",
      "57      0.0  27.000         south  \n",
      "58      1.0  42.000         south  \n",
      "59      0.0   0.000         other  \n",
      "60      0.0  30.800         other  \n",
      "61      1.0  40.000         south  \n",
      "62      0.0   0.000         other  \n",
      "63      NaN  53.000  northcentral  \n",
      "64      1.0  30.000  northcentral  \n",
      "65      1.0  27.000         other  \n",
      "66      0.0  24.000          west  \n",
      "67      0.0  45.000         south  \n",
      "68      0.0  31.200  northcentral  \n",
      "69      0.0  30.309  northcentral  \n",
      "70      2.0   0.000          west  \n",
      "71      3.0  24.000  northcentral  \n",
      "72      3.0  30.000  northcentral  \n",
      "73      0.0  50.000         other  \n",
      "74      NaN  60.000  northcentral  \n",
      "75      0.0  42.113          west  \n",
      "76      0.0   0.000         other  \n",
      "77      2.0  46.800  northcentral  \n",
      "78      0.0   0.600         other  \n",
      "79      1.0  19.000          west  \n",
      "80      2.0  18.000          west  \n",
      "81      4.0  24.749         south  \n",
      "82      0.0  35.000          west  \n",
      "83      2.0   0.000          west  \n",
      "84      0.0  41.960         south  \n",
      "85      0.0  40.000         south  \n",
      "86      0.0  62.000  northcentral  \n",
      "87      2.0  33.000         other  \n",
      "88      1.0  72.000  northcentral  \n",
      "89      NaN   0.000         south  \n",
      "90      2.0  15.000         other  \n",
      "91      0.0  62.000          west  \n",
      "92      0.0   0.000          west  \n",
      "93      0.0  15.000          west  \n",
      "94      1.0  24.000         south  \n",
      "95      1.0  12.000          west  \n",
      "96      2.0   0.000         south  \n",
      "97      1.0  44.000         south  \n",
      "98      1.0  14.000  northcentral  \n",
      "99      NaN  49.500         other  \n"
     ]
    },
    {
     "name": "stderr",
     "output_type": "stream",
     "text": [
      "/usr/local/lib/python3.11/dist-packages/pandas/io/formats/format.py:1458: RuntimeWarning: invalid value encountered in greater\n",
      "  has_large_values = (abs_vals > 1e6).any()\n",
      "/usr/local/lib/python3.11/dist-packages/pandas/io/formats/format.py:1459: RuntimeWarning: invalid value encountered in less\n",
      "  has_small_values = ((abs_vals < 10 ** (-self.digits)) & (abs_vals > 0)).any()\n",
      "/usr/local/lib/python3.11/dist-packages/pandas/io/formats/format.py:1459: RuntimeWarning: invalid value encountered in greater\n",
      "  has_small_values = ((abs_vals < 10 ** (-self.digits)) & (abs_vals > 0)).any()\n"
     ]
    }
   ],
   "source": [
    "pd.set_option('display.max_rows', 200)\n",
    "print(data.head(100))"
   ]
  },
  {
   "cell_type": "markdown",
   "id": "811eeec9",
   "metadata": {
    "papermill": {
     "duration": 0.003206,
     "end_time": "2025-10-27T23:51:58.818585",
     "exception": false,
     "start_time": "2025-10-27T23:51:58.815379",
     "status": "completed"
    },
    "tags": []
   },
   "source": [
    "#### Kijken voor afwijkende data"
   ]
  },
  {
   "cell_type": "code",
   "execution_count": 4,
   "id": "68d0c2c4",
   "metadata": {
    "execution": {
     "iopub.execute_input": "2025-10-27T23:51:58.826387Z",
     "iopub.status.busy": "2025-10-27T23:51:58.826142Z",
     "iopub.status.idle": "2025-10-27T23:51:58.840111Z",
     "shell.execute_reply": "2025-10-27T23:51:58.839393Z"
    },
    "papermill": {
     "duration": 0.019278,
     "end_time": "2025-10-27T23:51:58.841294",
     "exception": false,
     "start_time": "2025-10-27T23:51:58.822016",
     "status": "completed"
    },
    "tags": []
   },
   "outputs": [
    {
     "name": "stdout",
     "output_type": "stream",
     "text": [
      "whrswk: 1477 nullen, 0 NaN's, 0 other\n",
      "hhi: 0 nullen, 0 NaN's, 0 other\n",
      "whi: 0 nullen, 0 NaN's, 0 other\n",
      "hhi2: 0 nullen, 0 NaN's, 0 other\n",
      "education: 0 nullen, 0 NaN's, 0 other\n",
      "race: 0 nullen, 500 NaN's, 37 other\n",
      "hispanic: 0 nullen, 0 NaN's, 0 other\n",
      "experience: 6 nullen, 0 NaN's, 0 other\n",
      "kidslt6: 3379 nullen, 500 NaN's, 0 other\n",
      "kids618: 2641 nullen, 500 NaN's, 0 other\n",
      "husby: 950 nullen, 0 NaN's, 0 other\n",
      "region: 0 nullen, 0 NaN's, 1179 other\n"
     ]
    }
   ],
   "source": [
    "cols = ['whrswk', 'hhi', 'whi', 'hhi2', 'education', 'race','hispanic',\n",
    "        'experience', 'kidslt6', 'kids618', 'husby', 'region']\n",
    "\n",
    "for col in cols:\n",
    "    zeros = (data[col] == 0).sum()\n",
    "    others = (data[col] == 'other').sum()\n",
    "    nans = data[col].isna().sum()\n",
    "    print(f\"{col}: {zeros} nullen, {nans} NaN's, {others} other\")"
   ]
  },
  {
   "cell_type": "markdown",
   "id": "9facf98d",
   "metadata": {
    "papermill": {
     "duration": 0.003235,
     "end_time": "2025-10-27T23:51:58.848383",
     "exception": false,
     "start_time": "2025-10-27T23:51:58.845148",
     "status": "completed"
    },
    "tags": []
   },
   "source": [
    "### Pipeline 1"
   ]
  },
  {
   "cell_type": "code",
   "execution_count": 5,
   "id": "1291aee4",
   "metadata": {
    "execution": {
     "iopub.execute_input": "2025-10-27T23:51:58.856224Z",
     "iopub.status.busy": "2025-10-27T23:51:58.855903Z",
     "iopub.status.idle": "2025-10-27T23:51:58.860768Z",
     "shell.execute_reply": "2025-10-27T23:51:58.860164Z"
    },
    "papermill": {
     "duration": 0.010018,
     "end_time": "2025-10-27T23:51:58.861805",
     "exception": false,
     "start_time": "2025-10-27T23:51:58.851787",
     "status": "completed"
    },
    "tags": []
   },
   "outputs": [],
   "source": [
    "Num = ['experience', 'kidslt6', 'kids618', 'husby']\n",
    "Bin_cat = ['hhi', 'whi', 'hhi2', 'hispanic']\n",
    "Multi_cat = ['race', 'region', 'education']\n",
    "\n",
    "\n",
    "num_pipe = Pipeline(steps=[\n",
    "    ('imputer', SimpleImputer(strategy='median')),\n",
    "    ('scaler', StandardScaler())\n",
    "])\n",
    "\n",
    "\n",
    "cat_pipe = Pipeline(steps=[\n",
    "    ('imputer', SimpleImputer(strategy='most_frequent')),\n",
    "    ('onehot', OneHotEncoder(handle_unknown='ignore', sparse_output=False)),\n",
    "    ('scaler', StandardScaler())\n",
    "])\n",
    "\n",
    "\n",
    "prep_1 = ColumnTransformer(\n",
    "    transformers=[\n",
    "        ('num_scaled', num_pipe, Num),\n",
    "        ('bin_cat_ohe', cat_pipe, Bin_cat), \n",
    "        ('multi_cat_ohe', cat_pipe, Multi_cat) \n",
    "    ],\n",
    "    remainder='drop'\n",
    ")"
   ]
  },
  {
   "cell_type": "code",
   "execution_count": 6,
   "id": "3967611e",
   "metadata": {
    "_kg_hide-input": false,
    "_kg_hide-output": false,
    "execution": {
     "iopub.execute_input": "2025-10-27T23:51:58.869692Z",
     "iopub.status.busy": "2025-10-27T23:51:58.869475Z",
     "iopub.status.idle": "2025-10-27T23:51:58.911886Z",
     "shell.execute_reply": "2025-10-27T23:51:58.911133Z"
    },
    "papermill": {
     "duration": 0.047412,
     "end_time": "2025-10-27T23:51:58.912993",
     "exception": false,
     "start_time": "2025-10-27T23:51:58.865581",
     "status": "completed"
    },
    "tags": []
   },
   "outputs": [
    {
     "name": "stdout",
     "output_type": "stream",
     "text": [
      "1. Initieel aantal rijen en kolommen (X): (5000, 11)\n",
      "   Aantal rijen en kolommen na P1:        (5000, 25)\n",
      "\n",
      "2. Totaal aantal features na P1: 25\n",
      "   Alle feature namen:\n",
      "['num_scaled__experience' 'num_scaled__kidslt6' 'num_scaled__kids618'\n",
      " 'num_scaled__husby' 'bin_cat_ohe__hhi_no' 'bin_cat_ohe__hhi_yes'\n",
      " 'bin_cat_ohe__whi_no' 'bin_cat_ohe__whi_yes' 'bin_cat_ohe__hhi2_no'\n",
      " 'bin_cat_ohe__hhi2_yes' 'bin_cat_ohe__hispanic_no'\n",
      " 'bin_cat_ohe__hispanic_yes' 'multi_cat_ohe__race_black'\n",
      " 'multi_cat_ohe__race_other' 'multi_cat_ohe__race_white'\n",
      " 'multi_cat_ohe__region_northcentral' 'multi_cat_ohe__region_other'\n",
      " 'multi_cat_ohe__region_south' 'multi_cat_ohe__region_west'\n",
      " 'multi_cat_ohe__education_12years' 'multi_cat_ohe__education_13-15years'\n",
      " 'multi_cat_ohe__education_16years' 'multi_cat_ohe__education_9-11years'\n",
      " 'multi_cat_ohe__education_<9years' 'multi_cat_ohe__education_>16years']\n"
     ]
    }
   ],
   "source": [
    "X_transformed = prep_1.fit_transform(X)\n",
    "\n",
    "print(f\"1. Initieel aantal rijen en kolommen (X): {X.shape}\")\n",
    "print(f\"   Aantal rijen en kolommen na P1:        {X_transformed.shape}\")\n",
    "\n",
    "# Gebruik .get_feature_names_out() om de kolomnamen te zien.\n",
    "try:\n",
    "    feature_names = prep_1.get_feature_names_out()\n",
    "    print(f\"\\n2. Totaal aantal features na P1: {len(feature_names)}\")\n",
    "    print(\"   Alle feature namen:\")\n",
    "    print(feature_names)\n",
    "except Exception as e:\n",
    "    print(f\"\\nKon featurenamen niet ophalen: {e}\")\n",
    "\n",
    "X_transformed_df = pd.DataFrame(X_transformed, columns=feature_names)\n",
    "#print(\"\\n3. Eerste 5 rijen van de getransformeerde data (Controle Scaling/OHE):\")\n",
    "#print(X_transformed_df.head())"
   ]
  },
  {
   "cell_type": "markdown",
   "id": "af8f9071",
   "metadata": {
    "papermill": {
     "duration": 0.003239,
     "end_time": "2025-10-27T23:51:58.920383",
     "exception": false,
     "start_time": "2025-10-27T23:51:58.917144",
     "status": "completed"
    },
    "tags": []
   },
   "source": [
    "### Pipeline 2"
   ]
  },
  {
   "cell_type": "code",
   "execution_count": 7,
   "id": "834d1928",
   "metadata": {
    "execution": {
     "iopub.execute_input": "2025-10-27T23:51:58.928194Z",
     "iopub.status.busy": "2025-10-27T23:51:58.927940Z",
     "iopub.status.idle": "2025-10-27T23:51:58.935694Z",
     "shell.execute_reply": "2025-10-27T23:51:58.935080Z"
    },
    "papermill": {
     "duration": 0.013008,
     "end_time": "2025-10-27T23:51:58.936813",
     "exception": false,
     "start_time": "2025-10-27T23:51:58.923805",
     "status": "completed"
    },
    "tags": []
   },
   "outputs": [],
   "source": [
    "def feature_engineer_p2(X_df):\n",
    "    \"\"\"Voegt gewogen kinderlast, kwadratisch inkomen, en onverzekerdheid toe.\"\"\"\n",
    "    X_fe = X_df.copy()\n",
    "    \n",
    "    # 1. Gewogen Kinderlast (Child Burden)\n",
    "    X_fe['child_burden'] = 2 * X_fe['kidslt6'] + X_fe['kids618']\n",
    "    \n",
    "    # 2. Kwadratische Term voor Husby (om non-lineariteit vast te leggen)\n",
    "    # Husby is in duizenden dollars, dus de kwadratische term is zinvol.\n",
    "    X_fe['husby_sq'] = X_fe['husby'] ** 2\n",
    "    \n",
    "    # 3. Onverzekerdheid (Sterke motivator om te werken)\n",
    "    # 1 als hhi='no' EN whi='no', anders 0.\n",
    "    X_fe['uninsured'] = ((X_fe['hhi'] == 'no') & (X_fe['whi'] == 'no')).astype(int)\n",
    "    \n",
    "    return X_fe\n",
    "\n",
    "X_fe = feature_engineer_p2(X) # Voer de FE uit op de volledige dataset X\n",
    "\n",
    "# De oorspronkelijke kidslt6/kids618 vallen af omdat ze al in child_burden zitten.\n",
    "NUM_P2_FE = ['experience', 'husby', 'husby_sq', 'child_burden'] # De 4 features die bewerkt zijn\n",
    "NUM_P2_PASSTHROUGH = ['education'] # Niet-gefeateerde numerieke/ordinale features\n",
    "PFE_TARGETS = ['husby', 'experience'] # De features die polynomiale interactie krijgen"
   ]
  },
  {
   "cell_type": "code",
   "execution_count": 8,
   "id": "13513a7e",
   "metadata": {
    "execution": {
     "iopub.execute_input": "2025-10-27T23:51:58.944634Z",
     "iopub.status.busy": "2025-10-27T23:51:58.944447Z",
     "iopub.status.idle": "2025-10-27T23:51:58.949194Z",
     "shell.execute_reply": "2025-10-27T23:51:58.948593Z"
    },
    "papermill": {
     "duration": 0.009637,
     "end_time": "2025-10-27T23:51:58.950166",
     "exception": false,
     "start_time": "2025-10-27T23:51:58.940529",
     "status": "completed"
    },
    "tags": []
   },
   "outputs": [],
   "source": [
    "num_pipe2 = Pipeline(steps=[\n",
    "    ('imputer', SimpleImputer(strategy='median'))\n",
    "])\n",
    "\n",
    "cat_pipe2 = Pipeline(steps=[\n",
    "    ('imputer', SimpleImputer(strategy='most_frequent')),\n",
    "    ('onehot', OneHotEncoder(drop='first', handle_unknown='ignore', sparse_output=False))\n",
    "])\n",
    "\n",
    "\n",
    "# 1. Pipeline voor Polynomial Feature Extraction (alleen interacties)\n",
    "pfe_pipe = Pipeline(steps=[\n",
    "    ('imputer', SimpleImputer(strategy='median')),\n",
    "    ('poly', PolynomialFeatures(degree=2, include_bias=False)),\n",
    "    ('scaler', StandardScaler())\n",
    "])\n",
    "\n",
    "# 2. Pipeline voor Numeriek Passthrough (voor de rest van de numerieke features)\n",
    "num_pipe_passthrough = Pipeline(steps=[\n",
    "    ('imputer', SimpleImputer(strategy='median')),\n",
    "    ('scaler', StandardScaler())\n",
    "])\n",
    "\n",
    "prep_2 = ColumnTransformer(\n",
    "    transformers=[\n",
    "        # PFE/Interactie op de kritische features\n",
    "        ('pfe_feats', pfe_pipe, PFE_TARGETS),\n",
    "        \n",
    "        # Numeriek Passthrough (incl. child_burden, husby_sq, uninsured)\n",
    "        ('num_pass', num_pipe_passthrough, NUM_P2_FE),\n",
    "        \n",
    "        # Categorische (Gebruikt cat_pipe2 uit uw code)\n",
    "        ('bin_cat_ohe', cat_pipe2, Bin_cat),\n",
    "        ('multi_cat_ohe', cat_pipe2, Multi_cat)\n",
    "    ],\n",
    "    remainder='drop'\n",
    ")"
   ]
  },
  {
   "cell_type": "markdown",
   "id": "2e55974b",
   "metadata": {
    "papermill": {
     "duration": 0.003214,
     "end_time": "2025-10-27T23:51:58.956856",
     "exception": false,
     "start_time": "2025-10-27T23:51:58.953642",
     "status": "completed"
    },
    "tags": []
   },
   "source": [
    "## Part B - Regression with Default Hyperparameters"
   ]
  },
  {
   "cell_type": "markdown",
   "id": "e675f590",
   "metadata": {
    "papermill": {
     "duration": 0.003103,
     "end_time": "2025-10-27T23:51:58.963345",
     "exception": false,
     "start_time": "2025-10-27T23:51:58.960242",
     "status": "completed"
    },
    "tags": []
   },
   "source": [
    "### Define models"
   ]
  },
  {
   "cell_type": "code",
   "execution_count": 9,
   "id": "24b88fa8",
   "metadata": {
    "execution": {
     "iopub.execute_input": "2025-10-27T23:51:58.970753Z",
     "iopub.status.busy": "2025-10-27T23:51:58.970561Z",
     "iopub.status.idle": "2025-10-27T23:51:58.976237Z",
     "shell.execute_reply": "2025-10-27T23:51:58.975471Z"
    },
    "papermill": {
     "duration": 0.010796,
     "end_time": "2025-10-27T23:51:58.977428",
     "exception": false,
     "start_time": "2025-10-27T23:51:58.966632",
     "status": "completed"
    },
    "tags": []
   },
   "outputs": [],
   "source": [
    "models_p1 = {\n",
    "    'KNN Regression': Pipeline(steps=[\n",
    "        ('preprocessor', prep_1), \n",
    "        ('regressor', KNeighborsRegressor(n_neighbors=5))\n",
    "    ]),\n",
    "    'SGD Linear Regression': Pipeline(steps=[\n",
    "        ('preprocessor', prep_1), \n",
    "        ('regressor', SGDRegressor(random_state=42))\n",
    "    ]),   \n",
    "    'Random Forest': Pipeline(steps=[\n",
    "        ('preprocessor', prep_1), \n",
    "        ('regressor', RandomForestRegressor(n_estimators=100, random_state=42, n_jobs=-1)) # n_jobs=-1 voor snellere training\n",
    "    ]),    \n",
    "    'Regression Tree': Pipeline(steps=[\n",
    "        ('preprocessor', prep_1), \n",
    "        ('regressor', DecisionTreeRegressor(random_state=42))\n",
    "    ])\n",
    "}\n",
    "\n",
    "\n",
    "models_p2 = {\n",
    "    'KNN Regression (P2)': Pipeline(steps=[\n",
    "        ('preprocessor', prep_2), \n",
    "        ('regressor', KNeighborsRegressor(n_neighbors=5))\n",
    "    ]),\n",
    "    'SGD Linear Regression (P2)': Pipeline(steps=[\n",
    "        ('preprocessor', prep_2), \n",
    "        ('regressor', SGDRegressor(random_state=42))\n",
    "    ]),\n",
    "    'Random Forest (P2)': Pipeline(steps=[\n",
    "        ('preprocessor', prep_2), \n",
    "        ('regressor', RandomForestRegressor(n_estimators=100, random_state=42, n_jobs=-1))\n",
    "    ]),\n",
    "    'Regression Tree (P2)': Pipeline(steps=[\n",
    "        ('preprocessor', prep_2), \n",
    "        ('regressor', DecisionTreeRegressor(random_state=42))\n",
    "    ])\n",
    "}"
   ]
  },
  {
   "cell_type": "markdown",
   "id": "58fb08be",
   "metadata": {
    "papermill": {
     "duration": 0.003428,
     "end_time": "2025-10-27T23:51:58.985096",
     "exception": false,
     "start_time": "2025-10-27T23:51:58.981668",
     "status": "completed"
    },
    "tags": []
   },
   "source": [
    "### MAE"
   ]
  },
  {
   "cell_type": "code",
   "execution_count": 10,
   "id": "58f7733e",
   "metadata": {
    "execution": {
     "iopub.execute_input": "2025-10-27T23:51:58.993465Z",
     "iopub.status.busy": "2025-10-27T23:51:58.992681Z",
     "iopub.status.idle": "2025-10-27T23:51:58.997996Z",
     "shell.execute_reply": "2025-10-27T23:51:58.997284Z"
    },
    "papermill": {
     "duration": 0.01057,
     "end_time": "2025-10-27T23:51:58.999116",
     "exception": false,
     "start_time": "2025-10-27T23:51:58.988546",
     "status": "completed"
    },
    "tags": []
   },
   "outputs": [
    {
     "name": "stdout",
     "output_type": "stream",
     "text": [
      "--- Baseline Model MAE ---\n",
      "De mediane uren gewerkt (Baseline Gok): 35.00 uur\n",
      "De MAE van deze Baseline Gok: 15.92 uur\n"
     ]
    }
   ],
   "source": [
    "baseline_guess = y.median()\n",
    "\n",
    "y_baseline_pred = np.full_like(y, baseline_guess)\n",
    "mae_baseline = mean_absolute_error(y, y_baseline_pred)\n",
    "\n",
    "print(\"--- Baseline Model MAE ---\")\n",
    "print(f\"De mediane uren gewerkt (Baseline Gok): {baseline_guess:.2f} uur\")\n",
    "print(f\"De MAE van deze Baseline Gok: {mae_baseline:.2f} uur\")"
   ]
  },
  {
   "cell_type": "code",
   "execution_count": 11,
   "id": "62cc661a",
   "metadata": {
    "execution": {
     "iopub.execute_input": "2025-10-27T23:51:59.007283Z",
     "iopub.status.busy": "2025-10-27T23:51:59.007004Z",
     "iopub.status.idle": "2025-10-27T23:52:06.371830Z",
     "shell.execute_reply": "2025-10-27T23:52:06.370407Z"
    },
    "papermill": {
     "duration": 7.370136,
     "end_time": "2025-10-27T23:52:06.372924",
     "exception": false,
     "start_time": "2025-10-27T23:51:59.002788",
     "status": "completed"
    },
    "tags": []
   },
   "outputs": [
    {
     "name": "stdout",
     "output_type": "stream",
     "text": [
      "Start CV voor: KNN Regression...\n",
      "✅ KNN Regression                 - Gem. MAE: 12.25 uur (+/- 0.34 uur)\n",
      "Start CV voor: SGD Linear Regression...\n",
      "✅ SGD Linear Regression          - Gem. MAE: 12.30 uur (+/- 0.32 uur)\n",
      "Start CV voor: Random Forest...\n",
      "✅ Random Forest                  - Gem. MAE: 11.80 uur (+/- 0.34 uur)\n",
      "Start CV voor: Regression Tree...\n",
      "✅ Regression Tree                - Gem. MAE: 14.22 uur (+/- 0.11 uur)\n",
      "Start CV voor: KNN Regression (P2)...\n",
      "✅ KNN Regression (P2)            - Gem. MAE: 12.34 uur (+/- 0.30 uur)\n",
      "Start CV voor: SGD Linear Regression (P2)...\n",
      "✅ SGD Linear Regression (P2)     - Gem. MAE: 11.87 uur (+/- 0.30 uur)\n",
      "Start CV voor: Random Forest (P2)...\n",
      "✅ Random Forest (P2)             - Gem. MAE: 11.69 uur (+/- 0.36 uur)\n",
      "Start CV voor: Regression Tree (P2)...\n",
      "✅ Regression Tree (P2)           - Gem. MAE: 13.78 uur (+/- 0.39 uur)\n",
      "\n",
      "--- Samenvatting van de Generalisatieprestaties ---\n",
      "Random Forest (P2)            11.686031\n",
      "Random Forest                 11.802474\n",
      "SGD Linear Regression (P2)    11.866316\n",
      "KNN Regression                12.250080\n",
      "SGD Linear Regression         12.295602\n",
      "KNN Regression (P2)           12.340480\n",
      "Regression Tree (P2)          13.782933\n",
      "Regression Tree               14.224464\n",
      "dtype: float64\n"
     ]
    }
   ],
   "source": [
    "all_models = {**models_p1, **models_p2}\n",
    "results_mae = {}\n",
    "K_FOLDS = 5\n",
    "\n",
    "for name, model in all_models.items():\n",
    "    print(f\"Start CV voor: {name}...\")\n",
    "    \n",
    "    # BELANGRIJK: Gebruik X_fe (met de nieuwe features) voor P2-modellen, X voor P1-modellen.\n",
    "    # Dit is essentieel voor correcte Feature Engineering.\n",
    "    data_input = X_fe if 'P2' in name else X\n",
    "    \n",
    "    scores = cross_val_score(\n",
    "        model, \n",
    "        data_input, y, \n",
    "        scoring='neg_mean_absolute_error', \n",
    "        cv=K_FOLDS, \n",
    "        n_jobs=-1\n",
    "    )\n",
    "    \n",
    "    mean_mae = -scores.mean()\n",
    "    std_mae = scores.std()\n",
    "    results_mae[name] = mean_mae\n",
    "    \n",
    "    print(f\"✅ {name:<30} - Gem. MAE: {mean_mae:.2f} uur (+/- {std_mae:.2f} uur)\")\n",
    "\n",
    "print(\"\\n--- Samenvatting van de Generalisatieprestaties ---\")\n",
    "results_df = pd.Series(results_mae).sort_values()\n",
    "print(results_df)"
   ]
  },
  {
   "cell_type": "markdown",
   "id": "34cd5c02",
   "metadata": {
    "cellIdentifier": "yixry6lgnjpdvl4nonavpm",
    "papermill": {
     "duration": 0.00375,
     "end_time": "2025-10-27T23:52:06.381305",
     "exception": false,
     "start_time": "2025-10-27T23:52:06.377555",
     "status": "completed"
    },
    "tags": []
   },
   "source": [
    "# Autograder "
   ]
  },
  {
   "cell_type": "markdown",
   "id": "9783f224",
   "metadata": {
    "cellIdentifier": "5ewf130yhryoy6x3s4k4g",
    "papermill": {
     "duration": 0.005788,
     "end_time": "2025-10-27T23:52:06.393183",
     "exception": false,
     "start_time": "2025-10-27T23:52:06.387395",
     "status": "completed"
    },
    "tags": []
   },
   "source": [
    "In the autograder you will need to provide two things: 1) estimate of the MAE of your model on unseen data, 2) the predictions on the autograder data. For the autograder data we only provide the features and not the regression targets. Thus, you cannot compute the MAE on this data yourself - you need to estimate that with the data provided above. "
   ]
  },
  {
   "cell_type": "code",
   "execution_count": 12,
   "id": "015ae016",
   "metadata": {
    "cellIdentifier": "ejamawiie29ybpor5e0qt",
    "execution": {
     "iopub.execute_input": "2025-10-27T23:52:06.404752Z",
     "iopub.status.busy": "2025-10-27T23:52:06.404155Z",
     "iopub.status.idle": "2025-10-27T23:52:06.458780Z",
     "shell.execute_reply": "2025-10-27T23:52:06.457824Z"
    },
    "papermill": {
     "duration": 0.060702,
     "end_time": "2025-10-27T23:52:06.459969",
     "exception": false,
     "start_time": "2025-10-27T23:52:06.399267",
     "status": "completed"
    },
    "tags": []
   },
   "outputs": [
    {
     "data": {
      "text/html": [
       "<div>\n",
       "<style scoped>\n",
       "    .dataframe tbody tr th:only-of-type {\n",
       "        vertical-align: middle;\n",
       "    }\n",
       "\n",
       "    .dataframe tbody tr th {\n",
       "        vertical-align: top;\n",
       "    }\n",
       "\n",
       "    .dataframe thead th {\n",
       "        text-align: right;\n",
       "    }\n",
       "</style>\n",
       "<table border=\"1\" class=\"dataframe\">\n",
       "  <thead>\n",
       "    <tr style=\"text-align: right;\">\n",
       "      <th></th>\n",
       "      <th>hhi</th>\n",
       "      <th>whi</th>\n",
       "      <th>hhi2</th>\n",
       "      <th>education</th>\n",
       "      <th>race</th>\n",
       "      <th>hispanic</th>\n",
       "      <th>experience</th>\n",
       "      <th>kidslt6</th>\n",
       "      <th>kids618</th>\n",
       "      <th>husby</th>\n",
       "      <th>region</th>\n",
       "    </tr>\n",
       "  </thead>\n",
       "  <tbody>\n",
       "    <tr>\n",
       "      <th>0</th>\n",
       "      <td>no</td>\n",
       "      <td>yes</td>\n",
       "      <td>no</td>\n",
       "      <td>16years</td>\n",
       "      <td>white</td>\n",
       "      <td>no</td>\n",
       "      <td>25.0</td>\n",
       "      <td>0.0</td>\n",
       "      <td>0.0</td>\n",
       "      <td>0.0</td>\n",
       "      <td>west</td>\n",
       "    </tr>\n",
       "    <tr>\n",
       "      <th>1</th>\n",
       "      <td>no</td>\n",
       "      <td>no</td>\n",
       "      <td>no</td>\n",
       "      <td>12years</td>\n",
       "      <td>white</td>\n",
       "      <td>no</td>\n",
       "      <td>41.0</td>\n",
       "      <td>0.0</td>\n",
       "      <td>0.0</td>\n",
       "      <td>0.0</td>\n",
       "      <td>south</td>\n",
       "    </tr>\n",
       "    <tr>\n",
       "      <th>2</th>\n",
       "      <td>yes</td>\n",
       "      <td>yes</td>\n",
       "      <td>yes</td>\n",
       "      <td>&gt;16years</td>\n",
       "      <td>white</td>\n",
       "      <td>no</td>\n",
       "      <td>21.0</td>\n",
       "      <td>0.0</td>\n",
       "      <td>2.0</td>\n",
       "      <td>34.3</td>\n",
       "      <td>other</td>\n",
       "    </tr>\n",
       "    <tr>\n",
       "      <th>3</th>\n",
       "      <td>no</td>\n",
       "      <td>yes</td>\n",
       "      <td>yes</td>\n",
       "      <td>9-11years</td>\n",
       "      <td>NaN</td>\n",
       "      <td>no</td>\n",
       "      <td>46.5</td>\n",
       "      <td>0.0</td>\n",
       "      <td>0.0</td>\n",
       "      <td>0.0</td>\n",
       "      <td>other</td>\n",
       "    </tr>\n",
       "    <tr>\n",
       "      <th>4</th>\n",
       "      <td>no</td>\n",
       "      <td>no</td>\n",
       "      <td>no</td>\n",
       "      <td>13-15years</td>\n",
       "      <td>white</td>\n",
       "      <td>no</td>\n",
       "      <td>9.0</td>\n",
       "      <td>0.0</td>\n",
       "      <td>0.0</td>\n",
       "      <td>25.0</td>\n",
       "      <td>northcentral</td>\n",
       "    </tr>\n",
       "  </tbody>\n",
       "</table>\n",
       "</div>"
      ],
      "text/plain": [
       "   hhi  whi hhi2   education   race hispanic  experience  kidslt6  kids618  \\\n",
       "0   no  yes   no     16years  white       no        25.0      0.0      0.0   \n",
       "1   no   no   no     12years  white       no        41.0      0.0      0.0   \n",
       "2  yes  yes  yes    >16years  white       no        21.0      0.0      2.0   \n",
       "3   no  yes  yes   9-11years    NaN       no        46.5      0.0      0.0   \n",
       "4   no   no   no  13-15years  white       no         9.0      0.0      0.0   \n",
       "\n",
       "   husby        region  \n",
       "0    0.0          west  \n",
       "1    0.0         south  \n",
       "2   34.3         other  \n",
       "3    0.0         other  \n",
       "4   25.0  northcentral  "
      ]
     },
     "execution_count": 12,
     "metadata": {},
     "output_type": "execute_result"
    }
   ],
   "source": [
    "data_autograder = pd.read_csv('/kaggle/input/autograder/health_insurance_autograde.csv')\n",
    "data_autograder.head()\n"
   ]
  },
  {
   "cell_type": "code",
   "execution_count": 13,
   "id": "aedabcb5",
   "metadata": {
    "cellIdentifier": "u04zns1sc6i9v315k7wf",
    "execution": {
     "iopub.execute_input": "2025-10-27T23:52:06.469158Z",
     "iopub.status.busy": "2025-10-27T23:52:06.468887Z",
     "iopub.status.idle": "2025-10-27T23:52:06.490697Z",
     "shell.execute_reply": "2025-10-27T23:52:06.489793Z"
    },
    "papermill": {
     "duration": 0.027965,
     "end_time": "2025-10-27T23:52:06.492313",
     "exception": false,
     "start_time": "2025-10-27T23:52:06.464348",
     "status": "completed"
    },
    "tags": []
   },
   "outputs": [],
   "source": [
    "# TODO Replace this with your own estimate of the MAE of your best model\n",
    "estimate_MAE_on_new_data = np.array([1.0])\n",
    "\n",
    "# TODO Replace this with the predictions of your best model\n",
    "# via e.g. prediction = model.predict(data_autograder)\n",
    "predictions_autograder_data = np.array([-1] * 17272)\n",
    "\n",
    "# Upload this file to the Vocareum autograder:\n",
    "result = np.append(estimate_MAE_on_new_data, predictions_autograder_data)\n",
    "pd.DataFrame(result).to_csv(\"autograder_submission.txt\", index=False, header=False)"
   ]
  }
 ],
 "metadata": {
  "celltoolbar": "Create Assignment",
  "kaggle": {
   "accelerator": "none",
   "dataSources": [
    {
     "datasetId": 8547786,
     "sourceId": 13465727,
     "sourceType": "datasetVersion"
    },
    {
     "datasetId": 8547807,
     "sourceId": 13465761,
     "sourceType": "datasetVersion"
    }
   ],
   "dockerImageVersionId": 31153,
   "isGpuEnabled": false,
   "isInternetEnabled": false,
   "language": "python",
   "sourceType": "notebook"
  },
  "kernelspec": {
   "display_name": "Python 3",
   "language": "python",
   "name": "python3"
  },
  "language_info": {
   "codemirror_mode": {
    "name": "ipython",
    "version": 3
   },
   "file_extension": ".py",
   "mimetype": "text/x-python",
   "name": "python",
   "nbconvert_exporter": "python",
   "pygments_lexer": "ipython3",
   "version": "3.11.13"
  },
  "papermill": {
   "default_parameters": {},
   "duration": 17.495239,
   "end_time": "2025-10-27T23:52:09.116568",
   "environment_variables": {},
   "exception": null,
   "input_path": "__notebook__.ipynb",
   "output_path": "__notebook__.ipynb",
   "parameters": {},
   "start_time": "2025-10-27T23:51:51.621329",
   "version": "2.6.0"
  },
  "vscode": {
   "interpreter": {
    "hash": "2469a70536e4d2335a2ea8907942d0699c37342a371ac185bdb5b0aa6f073890"
   }
  }
 },
 "nbformat": 4,
 "nbformat_minor": 5
}
